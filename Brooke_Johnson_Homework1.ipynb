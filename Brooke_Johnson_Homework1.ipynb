{
 "cells": [
  {
   "cell_type": "markdown",
   "id": "348c8813",
   "metadata": {},
   "source": [
    "# Brooke Johnson\n",
    "## Homework 1\n",
    "MSDS 598 Spring 2022"
   ]
  },
  {
   "cell_type": "code",
   "execution_count": 50,
   "id": "4e6782b1",
   "metadata": {},
   "outputs": [],
   "source": [
    "import pandas as pd\n",
    "import numpy as np\n",
    "import matplotlib.pyplot as plt\n",
    "import math\n",
    "import random\n",
    "import scipy.stats"
   ]
  },
  {
   "cell_type": "markdown",
   "id": "848648ad",
   "metadata": {},
   "source": [
    "### Question 1\n",
    "Consider an experiment where you randomly pick 10 people and write down their birthdays. Let X be the random variable that is 0 when nobody shares a birthday and is 1 when at least two people share a birthday in your sample. \n",
    "#### Part A: Describe the sample space of this experiment.\n",
    "\n",
    "The sample space = {[1, 2, 3, 4, ....365] *10} The result of any randomly selected birthday per the lst array created below is that any integer between 1 & 365 may be drawn per person. For each of the ten the probability remains 1/365 since we are expecting it to be possible that some individuals will randomly share the same birthday. Furthermore, this array starts at 1 because a birthday of day 0 zero would not make sense. The sample space is an assortment of 10 numbers between 1 - 365\n",
    "\n",
    "#### Part B: Simulate this experiment and use this simulation to estimate the probability distribution of random variable X. Use at least 10,000 trials. \n"
   ]
  },
  {
   "cell_type": "code",
   "execution_count": 109,
   "id": "ed7ca953",
   "metadata": {},
   "outputs": [],
   "source": [
    "def checkIfDuplicates_3(list):\n",
    "    for elem in list:\n",
    "        if list.count(elem) >1:\n",
    "            return True\n",
    "    return False\n",
    "\n",
    "sample_size = 10\n",
    "num_experiments = 10000\n",
    "\n",
    "value = []\n",
    "\n",
    "for _ in range(num_experiments):\n",
    "    lst = np.random.randint(low=1, high=366, size=sample_size)\n",
    "    list = lst.tolist()\n",
    "    result = checkIfDuplicates_3(list)\n",
    "    if result:\n",
    "        value.append(1)\n",
    "    else:\n",
    "        value.append(0) \n",
    "        \n",
    "# code adapted from: https://thispointer.com/python-3-ways-to-check-if-there-are-duplicates-in-a-list/"
   ]
  },
  {
   "cell_type": "code",
   "execution_count": 110,
   "id": "fb6e3bb4",
   "metadata": {},
   "outputs": [
    {
     "data": {
      "image/png": "[encoded data removed]",
      "text/plain": [
       "<Figure size 432x288 with 1 Axes>"
      ]
     },
     "metadata": {
      "needs_background": "light"
     },
     "output_type": "display_data"
    }
   ],
   "source": [
    "plt.hist(value, bins=2, range=(0,1), density=True)\n",
    "plt.show()"
   ]
  },
  {
   "cell_type": "markdown",
   "id": "e0b10a0a",
   "metadata": {},
   "source": [
    "### Question 2\n",
    "Consider the Olympic Athlete Data from the January 31st Lecture.\n",
    "\n",
    "#### Part A: Choose a country and set up a Hypothesis Test to decide whether a random sample of 100 athletes from that country have a mean *weight* different from the population mean. "
   ]
  },
  {
   "cell_type": "code",
   "execution_count": 56,
   "id": "3c525ed6",
   "metadata": {},
   "outputs": [],
   "source": [
    "df = pd.read_csv('athlete_events.csv')"
   ]
  },
  {
   "cell_type": "code",
   "execution_count": 57,
   "id": "ce94c876",
   "metadata": {},
   "outputs": [
    {
     "data": {
      "text/plain": [
       "array(['CHN', 'DEN', 'NED', 'USA', 'FIN', 'NOR', 'ROU', 'EST', 'FRA',\n",
       "       'MAR', 'ESP', 'EGY', 'IRI', 'BUL', 'ITA', 'CHA', 'AZE', 'SUD',\n",
       "       'RUS', 'ARG', 'CUB', 'BLR', 'GRE', 'CMR', 'TUR', 'CHI', 'MEX',\n",
       "       'URS', 'NCA', 'HUN', 'NGR', 'ALG', 'KUW', 'BRN', 'PAK', 'IRQ',\n",
       "       'UAR', 'LIB', 'QAT', 'MAS', 'GER', 'CAN', 'IRL', 'AUS', 'RSA',\n",
       "       'ERI', 'TAN', 'JOR', 'TUN', 'LBA', 'BEL', 'DJI', 'PLE', 'COM',\n",
       "       'KAZ', 'BRU', 'IND', 'KSA', 'SYR', 'MDV', 'ETH', 'UAE', 'YAR',\n",
       "       'INA', 'PHI', 'SGP', 'UZB', 'KGZ', 'TJK', 'EUN', 'JPN', 'CGO',\n",
       "       'SUI', 'BRA', 'FRG', 'GDR', 'MON', 'ISR', 'URU', 'SWE', 'ISV',\n",
       "       'SRI', 'ARM', 'CIV', 'KEN', 'BEN', 'UKR', 'GBR', 'GHA', 'SOM',\n",
       "       'LAT', 'NIG', 'MLI', 'AFG', 'POL', 'CRC', 'PAN', 'GEO', 'SLO',\n",
       "       'CRO', 'GUY', 'NZL', 'POR', 'PAR', 'ANG', 'VEN', 'COL', 'BAN',\n",
       "       'PER', 'ESA', 'PUR', 'UGA', 'HON', 'ECU', 'TKM', 'MRI', 'SEY',\n",
       "       'TCH', 'LUX', 'MTN', 'CZE', 'SKN', 'TTO', 'DOM', 'VIN', 'JAM',\n",
       "       'LBR', 'SUR', 'NEP', 'MGL', 'AUT', 'PLW', 'LTU', 'TOG', 'NAM',\n",
       "       'AHO', 'ISL', 'ASA', 'SAM', 'RWA', 'DMA', 'HAI', 'MLT', 'CYP',\n",
       "       'GUI', 'BIZ', 'YMD', 'KOR', 'THA', 'BER', 'ANZ', 'SCG', 'SLE',\n",
       "       'PNG', 'YEM', 'IOA', 'OMA', 'FIJ', 'VAN', 'MDA', 'YUG', 'BAH',\n",
       "       'GUA', 'SRB', 'IVB', 'MOZ', 'CAF', 'MAD', 'MAL', 'BIH', 'GUM',\n",
       "       'CAY', 'SVK', 'BAR', 'GBS', 'TLS', 'COD', 'GAB', 'SMR', 'LAO',\n",
       "       'BOT', 'ROT', 'CAM', 'PRK', 'SOL', 'SEN', 'CPV', 'CRT', 'GEQ',\n",
       "       'BOL', 'SAA', 'AND', 'ANT', 'ZIM', 'GRN', 'HKG', 'LCA', 'FSM',\n",
       "       'MYA', 'MAW', 'ZAM', 'RHO', 'TPE', 'STP', 'MKD', 'BOH', 'TGA',\n",
       "       'LIE', 'MNE', 'GAM', 'COK', 'ALB', 'WIF', 'SWZ', 'BUR', 'NBO',\n",
       "       'BDI', 'ARU', 'NRU', 'VNM', 'VIE', 'BHU', 'MHL', 'KIR', 'UNK',\n",
       "       'TUV', 'NFL', 'KOS', 'SSD', 'LES'], dtype=object)"
      ]
     },
     "execution_count": 57,
     "metadata": {},
     "output_type": "execute_result"
    }
   ],
   "source": [
    "pd.unique(df['NOC'])\n",
    "# choosing country(NOC) = Sweeden (SWE)"
   ]
  },
  {
   "cell_type": "code",
   "execution_count": 58,
   "id": "04002d94",
   "metadata": {},
   "outputs": [
    {
     "name": "stdout",
     "output_type": "stream",
     "text": [
      "175.33896987366376\n"
     ]
    }
   ],
   "source": [
    "# subsetting the df\n",
    "df_swe = df[df['NOC'] == 'SWE']\n",
    "# find the population mean of all athletes\n",
    "pop_mean = df['Height'].mean()\n",
    "print(pop_mean)"
   ]
  },
  {
   "cell_type": "markdown",
   "id": "ebf1035f",
   "metadata": {},
   "source": [
    "\n",
    "$H_0: \\mu_{\\text{SWE_Sample}} = 175$\n",
    "\n",
    "$H_a: \\mu_{\\text{SWE_Sample}} \\neq 175$\n",
    "\n",
    "Significane level $\\alpha = 0.01$"
   ]
  },
  {
   "cell_type": "code",
   "execution_count": 80,
   "id": "9196fd5a",
   "metadata": {},
   "outputs": [
    {
     "name": "stdout",
     "output_type": "stream",
     "text": [
      "177.84057971014494\n"
     ]
    }
   ],
   "source": [
    "df_sample = df_swe.sample(100)\n",
    "sample_mean = df_sample['Height'].mean()\n",
    "print(sample_mean)"
   ]
  },
  {
   "cell_type": "markdown",
   "id": "18f28eaf",
   "metadata": {},
   "source": [
    "The sample mean is different from the population mean. Now to identify if this result is statistically unusual. \n",
    "\n",
    "#### Part B: Calculate the p-value to determine whether to reject or fail to reject the null hypothesis with a significance level of $\\alpha = 0.01$."
   ]
  },
  {
   "cell_type": "code",
   "execution_count": 81,
   "id": "16a746b1",
   "metadata": {},
   "outputs": [
    {
     "data": {
      "text/plain": [
       "1.1466663175578753"
      ]
     },
     "execution_count": 81,
     "metadata": {},
     "output_type": "execute_result"
    }
   ],
   "source": [
    "std_error = scipy.stats.sem(df_sample['Height'], nan_policy='omit')\n",
    "std_error"
   ]
  },
  {
   "cell_type": "code",
   "execution_count": 82,
   "id": "af4c20ec",
   "metadata": {},
   "outputs": [
    {
     "data": {
      "text/plain": [
       "0.02913632285484775"
      ]
     },
     "execution_count": 82,
     "metadata": {},
     "output_type": "execute_result"
    }
   ],
   "source": [
    "# caluculate the z-score\n",
    "z = (sample_mean - pop_mean) / (std_error)\n",
    "\n",
    "# calculate the area under the cumulative distribution of the z-score\n",
    "def p_left_of_z(z):\n",
    "    return scipy.stats.norm(0, 1).cdf(z)\n",
    "p = 2*p_left_of_z(-z)\n",
    "p\n"
   ]
  },
  {
   "cell_type": "markdown",
   "id": "8a750027",
   "metadata": {},
   "source": [
    "The calculated p-value is > 0.01 so we fail to reject the null hypothesis that the two means are the same. "
   ]
  },
  {
   "cell_type": "markdown",
   "id": "2f884542",
   "metadata": {},
   "source": [
    "### Question 3 \n",
    "Import the Advertising dataset found on Canvas looking at dollars spent by businesses on advertising in various mediums along with the associated sales that quarter. \n",
    "\n",
    "#### Part A: What variables in this dataset appear linearly correlated? Pick a pair that look linearly correlated and calculate the $R{^2}$ value for a line of best fit using OLS."
   ]
  },
  {
   "cell_type": "code",
   "execution_count": 83,
   "id": "f3a96f7f",
   "metadata": {},
   "outputs": [],
   "source": [
    "df_advert = pd.read_csv('Advertising.csv')\n",
    "import seaborn as sns"
   ]
  },
  {
   "cell_type": "code",
   "execution_count": 84,
   "id": "b95b4b24",
   "metadata": {},
   "outputs": [
    {
     "data": {
      "text/plain": [
       "<seaborn.axisgrid.PairGrid at 0x2b2917891c0>"
      ]
     },
     "execution_count": 84,
     "metadata": {},
     "output_type": "execute_result"
    },
    {
     "data": {
      "image/png": "[encoded data removed]",
      "text/plain": [
       "<Figure size 720x720 with 20 Axes>"
      ]
     },
     "metadata": {
      "needs_background": "light"
     },
     "output_type": "display_data"
    }
   ],
   "source": [
    "sns.pairplot(df_advert)"
   ]
  },
  {
   "cell_type": "markdown",
   "id": "2ccaa187",
   "metadata": {},
   "source": [
    "From this visual, the pairs that look somewhat linearly related are: sales&tv and sales&radio. I'm going to calculate the $R^{2}$ for sales&radio. "
   ]
  },
  {
   "cell_type": "code",
   "execution_count": 85,
   "id": "a18f8474",
   "metadata": {},
   "outputs": [],
   "source": [
    "import statsmodels.api as sm\n",
    "from statsmodels.formula.api import ols"
   ]
  },
  {
   "cell_type": "code",
   "execution_count": 86,
   "id": "d61e81c7",
   "metadata": {},
   "outputs": [
    {
     "data": {
      "text/html": [
       "<table class=\"simpletable\">\n",
       "<caption>OLS Regression Results</caption>\n",
       "<tr>\n",
       "  <th>Dep. Variable:</th>          <td>sales</td>      <th>  R-squared:         </th> <td>   0.332</td>\n",
       "</tr>\n",
       "<tr>\n",
       "  <th>Model:</th>                   <td>OLS</td>       <th>  Adj. R-squared:    </th> <td>   0.329</td>\n",
       "</tr>\n",
       "<tr>\n",
       "  <th>Method:</th>             <td>Least Squares</td>  <th>  F-statistic:       </th> <td>   98.42</td>\n",
       "</tr>\n",
       "<tr>\n",
       "  <th>Date:</th>             <td>Sun, 06 Feb 2022</td> <th>  Prob (F-statistic):</th> <td>4.35e-19</td>\n",
       "</tr>\n",
       "<tr>\n",
       "  <th>Time:</th>                 <td>15:57:35</td>     <th>  Log-Likelihood:    </th> <td> -573.34</td>\n",
       "</tr>\n",
       "<tr>\n",
       "  <th>No. Observations:</th>      <td>   200</td>      <th>  AIC:               </th> <td>   1151.</td>\n",
       "</tr>\n",
       "<tr>\n",
       "  <th>Df Residuals:</th>          <td>   198</td>      <th>  BIC:               </th> <td>   1157.</td>\n",
       "</tr>\n",
       "<tr>\n",
       "  <th>Df Model:</th>              <td>     1</td>      <th>                     </th>     <td> </td>   \n",
       "</tr>\n",
       "<tr>\n",
       "  <th>Covariance Type:</th>      <td>nonrobust</td>    <th>                     </th>     <td> </td>   \n",
       "</tr>\n",
       "</table>\n",
       "<table class=\"simpletable\">\n",
       "<tr>\n",
       "      <td></td>         <th>coef</th>     <th>std err</th>      <th>t</th>      <th>P>|t|</th>  <th>[0.025</th>    <th>0.975]</th>  \n",
       "</tr>\n",
       "<tr>\n",
       "  <th>Intercept</th> <td>    9.3116</td> <td>    0.563</td> <td>   16.542</td> <td> 0.000</td> <td>    8.202</td> <td>   10.422</td>\n",
       "</tr>\n",
       "<tr>\n",
       "  <th>radio</th>     <td>    0.2025</td> <td>    0.020</td> <td>    9.921</td> <td> 0.000</td> <td>    0.162</td> <td>    0.243</td>\n",
       "</tr>\n",
       "</table>\n",
       "<table class=\"simpletable\">\n",
       "<tr>\n",
       "  <th>Omnibus:</th>       <td>19.358</td> <th>  Durbin-Watson:     </th> <td>   1.946</td>\n",
       "</tr>\n",
       "<tr>\n",
       "  <th>Prob(Omnibus):</th> <td> 0.000</td> <th>  Jarque-Bera (JB):  </th> <td>  21.910</td>\n",
       "</tr>\n",
       "<tr>\n",
       "  <th>Skew:</th>          <td>-0.764</td> <th>  Prob(JB):          </th> <td>1.75e-05</td>\n",
       "</tr>\n",
       "<tr>\n",
       "  <th>Kurtosis:</th>      <td> 3.544</td> <th>  Cond. No.          </th> <td>    51.4</td>\n",
       "</tr>\n",
       "</table><br/><br/>Notes:<br/>[1] Standard Errors assume that the covariance matrix of the errors is correctly specified."
      ],
      "text/plain": [
       "<class 'statsmodels.iolib.summary.Summary'>\n",
       "\"\"\"\n",
       "                            OLS Regression Results                            \n",
       "==============================================================================\n",
       "Dep. Variable:                  sales   R-squared:                       0.332\n",
       "Model:                            OLS   Adj. R-squared:                  0.329\n",
       "Method:                 Least Squares   F-statistic:                     98.42\n",
       "Date:                Sun, 06 Feb 2022   Prob (F-statistic):           4.35e-19\n",
       "Time:                        15:57:35   Log-Likelihood:                -573.34\n",
       "No. Observations:                 200   AIC:                             1151.\n",
       "Df Residuals:                     198   BIC:                             1157.\n",
       "Df Model:                           1                                         \n",
       "Covariance Type:            nonrobust                                         \n",
       "==============================================================================\n",
       "                 coef    std err          t      P>|t|      [0.025      0.975]\n",
       "------------------------------------------------------------------------------\n",
       "Intercept      9.3116      0.563     16.542      0.000       8.202      10.422\n",
       "radio          0.2025      0.020      9.921      0.000       0.162       0.243\n",
       "==============================================================================\n",
       "Omnibus:                       19.358   Durbin-Watson:                   1.946\n",
       "Prob(Omnibus):                  0.000   Jarque-Bera (JB):               21.910\n",
       "Skew:                          -0.764   Prob(JB):                     1.75e-05\n",
       "Kurtosis:                       3.544   Cond. No.                         51.4\n",
       "==============================================================================\n",
       "\n",
       "Notes:\n",
       "[1] Standard Errors assume that the covariance matrix of the errors is correctly specified.\n",
       "\"\"\""
      ]
     },
     "execution_count": 86,
     "metadata": {},
     "output_type": "execute_result"
    }
   ],
   "source": [
    "model = ols(formula = 'sales ~ radio', data=df_advert)\n",
    "res = model.fit()\n",
    "res.summary()"
   ]
  },
  {
   "cell_type": "markdown",
   "id": "d27cf2d4",
   "metadata": {},
   "source": [
    "The $R^{2}$ value is 0.332 meaning that 33.2% of the variance is explained by the model. This is a sign that the model is not a good fit. "
   ]
  },
  {
   "cell_type": "markdown",
   "id": "a889a7dd",
   "metadata": {},
   "source": [
    "#### Part B: Explain in your own words what the relationship between these two variables using the line of best fit. "
   ]
  },
  {
   "cell_type": "code",
   "execution_count": 87,
   "id": "7d4e5687",
   "metadata": {},
   "outputs": [
    {
     "data": {
      "text/plain": [
       "<seaborn.axisgrid.FacetGrid at 0x2b28d912580>"
      ]
     },
     "execution_count": 87,
     "metadata": {},
     "output_type": "execute_result"
    },
    {
     "data": {
      "image/png": "[encoded data removed]",
      "text/plain": [
       "<Figure size 360x360 with 1 Axes>"
      ]
     },
     "metadata": {
      "needs_background": "light"
     },
     "output_type": "display_data"
    }
   ],
   "source": [
    "import seaborn as sns\n",
    "sns.lmplot(x='radio',y='sales',data=df_advert)"
   ]
  },
  {
   "cell_type": "markdown",
   "id": "6de05a32",
   "metadata": {},
   "source": [
    "The line of best fit shows a positive correlation between TV and Sales, suggesting that an increase in TV advertising will be associated with an increase in sales. When there are no TV advertisements sales are at approximately 9 units. "
   ]
  },
  {
   "cell_type": "markdown",
   "id": "3d4f2fa2",
   "metadata": {},
   "source": [
    "### Question 4\n",
    "Consider the TV and Sales Variables.\n",
    "\n",
    "#### Part A: Are they linearly correlated? Are they correlated in some other way?"
   ]
  },
  {
   "cell_type": "code",
   "execution_count": 25,
   "id": "4417ee18",
   "metadata": {},
   "outputs": [
    {
     "data": {
      "text/plain": [
       "<AxesSubplot:xlabel='TV', ylabel='sales'>"
      ]
     },
     "execution_count": 25,
     "metadata": {},
     "output_type": "execute_result"
    },
    {
     "data": {
      "image/png": "[encoded data removed]",
      "text/plain": [
       "<Figure size 432x288 with 1 Axes>"
      ]
     },
     "metadata": {
      "needs_background": "light"
     },
     "output_type": "display_data"
    }
   ],
   "source": [
    "sns.scatterplot(x='TV',y='sales',data=df_advert)"
   ]
  },
  {
   "cell_type": "markdown",
   "id": "7b59c15f",
   "metadata": {},
   "source": [
    "It looks like TV & sales might be logarithmically correlated since it seems like there are decreasing rertuns to scale for TV advertisements on sales. "
   ]
  },
  {
   "cell_type": "markdown",
   "id": "9476ca41",
   "metadata": {},
   "source": [
    "#### Part B: How might we create (or *engineer*) a feature from the TV variable that was linearly correlated with sales?\n",
    "\n",
    "We can transform the TV data using e, where e is raised to the negative power of the variable presenting TV (x). It might look like $e^{-x}$. This transformation method was referenced from this site: https://online.stat.psu.edu/stat501/lesson/9/9.4\n"
   ]
  },
  {
   "cell_type": "markdown",
   "id": "e16f296f",
   "metadata": {},
   "source": [
    "### Question 5\n",
    "Import the Penguins dataset we looked at in class on January 24th. \n",
    "\n",
    "#### Part A: Which other numerical variable predict bill length the best with a linear model? What is the $R^{2}$ for each of these?"
   ]
  },
  {
   "cell_type": "code",
   "execution_count": 88,
   "id": "9e1ee73b",
   "metadata": {},
   "outputs": [
    {
     "data": {
      "text/html": [
       "<div>\n",
       "<style scoped>\n",
       "    .dataframe tbody tr th:only-of-type {\n",
       "        vertical-align: middle;\n",
       "    }\n",
       "\n",
       "    .dataframe tbody tr th {\n",
       "        vertical-align: top;\n",
       "    }\n",
       "\n",
       "    .dataframe thead th {\n",
       "        text-align: right;\n",
       "    }\n",
       "</style>\n",
       "<table border=\"1\" class=\"dataframe\">\n",
       "  <thead>\n",
       "    <tr style=\"text-align: right;\">\n",
       "      <th></th>\n",
       "      <th>species</th>\n",
       "      <th>island</th>\n",
       "      <th>bill_length_mm</th>\n",
       "      <th>bill_depth_mm</th>\n",
       "      <th>flipper_length_mm</th>\n",
       "      <th>body_mass_g</th>\n",
       "      <th>sex</th>\n",
       "    </tr>\n",
       "  </thead>\n",
       "  <tbody>\n",
       "    <tr>\n",
       "      <th>0</th>\n",
       "      <td>Adelie</td>\n",
       "      <td>Torgersen</td>\n",
       "      <td>39.1</td>\n",
       "      <td>18.7</td>\n",
       "      <td>181.0</td>\n",
       "      <td>3750.0</td>\n",
       "      <td>Male</td>\n",
       "    </tr>\n",
       "    <tr>\n",
       "      <th>1</th>\n",
       "      <td>Adelie</td>\n",
       "      <td>Torgersen</td>\n",
       "      <td>39.5</td>\n",
       "      <td>17.4</td>\n",
       "      <td>186.0</td>\n",
       "      <td>3800.0</td>\n",
       "      <td>Female</td>\n",
       "    </tr>\n",
       "    <tr>\n",
       "      <th>2</th>\n",
       "      <td>Adelie</td>\n",
       "      <td>Torgersen</td>\n",
       "      <td>40.3</td>\n",
       "      <td>18.0</td>\n",
       "      <td>195.0</td>\n",
       "      <td>3250.0</td>\n",
       "      <td>Female</td>\n",
       "    </tr>\n",
       "    <tr>\n",
       "      <th>4</th>\n",
       "      <td>Adelie</td>\n",
       "      <td>Torgersen</td>\n",
       "      <td>36.7</td>\n",
       "      <td>19.3</td>\n",
       "      <td>193.0</td>\n",
       "      <td>3450.0</td>\n",
       "      <td>Female</td>\n",
       "    </tr>\n",
       "    <tr>\n",
       "      <th>5</th>\n",
       "      <td>Adelie</td>\n",
       "      <td>Torgersen</td>\n",
       "      <td>39.3</td>\n",
       "      <td>20.6</td>\n",
       "      <td>190.0</td>\n",
       "      <td>3650.0</td>\n",
       "      <td>Male</td>\n",
       "    </tr>\n",
       "  </tbody>\n",
       "</table>\n",
       "</div>"
      ],
      "text/plain": [
       "  species     island  bill_length_mm  bill_depth_mm  flipper_length_mm  \\\n",
       "0  Adelie  Torgersen            39.1           18.7              181.0   \n",
       "1  Adelie  Torgersen            39.5           17.4              186.0   \n",
       "2  Adelie  Torgersen            40.3           18.0              195.0   \n",
       "4  Adelie  Torgersen            36.7           19.3              193.0   \n",
       "5  Adelie  Torgersen            39.3           20.6              190.0   \n",
       "\n",
       "   body_mass_g     sex  \n",
       "0       3750.0    Male  \n",
       "1       3800.0  Female  \n",
       "2       3250.0  Female  \n",
       "4       3450.0  Female  \n",
       "5       3650.0    Male  "
      ]
     },
     "execution_count": 88,
     "metadata": {},
     "output_type": "execute_result"
    }
   ],
   "source": [
    "df_penguins = sns.load_dataset('penguins')\n",
    "df_penguins = df_penguins.dropna()\n",
    "df_penguins.head()"
   ]
  },
  {
   "cell_type": "code",
   "execution_count": 89,
   "id": "ed18cf7a",
   "metadata": {},
   "outputs": [
    {
     "data": {
      "text/plain": [
       "<seaborn.axisgrid.PairGrid at 0x2b28dc78250>"
      ]
     },
     "execution_count": 89,
     "metadata": {},
     "output_type": "execute_result"
    },
    {
     "data": {
      "image/png": "[encoded data removed]",
      "text/plain": [
       "<Figure size 540x180 with 3 Axes>"
      ]
     },
     "metadata": {
      "needs_background": "light"
     },
     "output_type": "display_data"
    }
   ],
   "source": [
    "sns.pairplot(df_penguins,\n",
    "             y_vars = ['bill_length_mm'],\n",
    "             x_vars= ['bill_depth_mm', 'flipper_length_mm', 'body_mass_g'])"
   ]
  },
  {
   "cell_type": "markdown",
   "id": "9e806e90",
   "metadata": {},
   "source": [
    "Body mass and flipper length look like they may have a relationship with bill length. "
   ]
  },
  {
   "cell_type": "code",
   "execution_count": 90,
   "id": "6a93ca7e",
   "metadata": {},
   "outputs": [
    {
     "data": {
      "text/html": [
       "<table class=\"simpletable\">\n",
       "<caption>OLS Regression Results</caption>\n",
       "<tr>\n",
       "  <th>Dep. Variable:</th>     <td>bill_length_mm</td>  <th>  R-squared:         </th> <td>   0.427</td>\n",
       "</tr>\n",
       "<tr>\n",
       "  <th>Model:</th>                   <td>OLS</td>       <th>  Adj. R-squared:    </th> <td>   0.425</td>\n",
       "</tr>\n",
       "<tr>\n",
       "  <th>Method:</th>             <td>Least Squares</td>  <th>  F-statistic:       </th> <td>   246.2</td>\n",
       "</tr>\n",
       "<tr>\n",
       "  <th>Date:</th>             <td>Sun, 06 Feb 2022</td> <th>  Prob (F-statistic):</th> <td>7.21e-42</td>\n",
       "</tr>\n",
       "<tr>\n",
       "  <th>Time:</th>                 <td>15:59:22</td>     <th>  Log-Likelihood:    </th> <td> -945.20</td>\n",
       "</tr>\n",
       "<tr>\n",
       "  <th>No. Observations:</th>      <td>   333</td>      <th>  AIC:               </th> <td>   1894.</td>\n",
       "</tr>\n",
       "<tr>\n",
       "  <th>Df Residuals:</th>          <td>   331</td>      <th>  BIC:               </th> <td>   1902.</td>\n",
       "</tr>\n",
       "<tr>\n",
       "  <th>Df Model:</th>              <td>     1</td>      <th>                     </th>     <td> </td>   \n",
       "</tr>\n",
       "<tr>\n",
       "  <th>Covariance Type:</th>      <td>nonrobust</td>    <th>                     </th>     <td> </td>   \n",
       "</tr>\n",
       "</table>\n",
       "<table class=\"simpletable\">\n",
       "<tr>\n",
       "          <td></td>             <th>coef</th>     <th>std err</th>      <th>t</th>      <th>P>|t|</th>  <th>[0.025</th>    <th>0.975]</th>  \n",
       "</tr>\n",
       "<tr>\n",
       "  <th>Intercept</th>         <td>   -7.2186</td> <td>    3.272</td> <td>   -2.206</td> <td> 0.028</td> <td>  -13.655</td> <td>   -0.783</td>\n",
       "</tr>\n",
       "<tr>\n",
       "  <th>flipper_length_mm</th> <td>    0.2548</td> <td>    0.016</td> <td>   15.691</td> <td> 0.000</td> <td>    0.223</td> <td>    0.287</td>\n",
       "</tr>\n",
       "</table>\n",
       "<table class=\"simpletable\">\n",
       "<tr>\n",
       "  <th>Omnibus:</th>       <td>35.275</td> <th>  Durbin-Watson:     </th> <td>   0.950</td>\n",
       "</tr>\n",
       "<tr>\n",
       "  <th>Prob(Omnibus):</th> <td> 0.000</td> <th>  Jarque-Bera (JB):  </th> <td>  44.902</td>\n",
       "</tr>\n",
       "<tr>\n",
       "  <th>Skew:</th>          <td> 0.783</td> <th>  Prob(JB):          </th> <td>1.78e-10</td>\n",
       "</tr>\n",
       "<tr>\n",
       "  <th>Kurtosis:</th>      <td> 3.886</td> <th>  Cond. No.          </th> <td>2.90e+03</td>\n",
       "</tr>\n",
       "</table><br/><br/>Notes:<br/>[1] Standard Errors assume that the covariance matrix of the errors is correctly specified.<br/>[2] The condition number is large, 2.9e+03. This might indicate that there are<br/>strong multicollinearity or other numerical problems."
      ],
      "text/plain": [
       "<class 'statsmodels.iolib.summary.Summary'>\n",
       "\"\"\"\n",
       "                            OLS Regression Results                            \n",
       "==============================================================================\n",
       "Dep. Variable:         bill_length_mm   R-squared:                       0.427\n",
       "Model:                            OLS   Adj. R-squared:                  0.425\n",
       "Method:                 Least Squares   F-statistic:                     246.2\n",
       "Date:                Sun, 06 Feb 2022   Prob (F-statistic):           7.21e-42\n",
       "Time:                        15:59:22   Log-Likelihood:                -945.20\n",
       "No. Observations:                 333   AIC:                             1894.\n",
       "Df Residuals:                     331   BIC:                             1902.\n",
       "Df Model:                           1                                         \n",
       "Covariance Type:            nonrobust                                         \n",
       "=====================================================================================\n",
       "                        coef    std err          t      P>|t|      [0.025      0.975]\n",
       "-------------------------------------------------------------------------------------\n",
       "Intercept            -7.2186      3.272     -2.206      0.028     -13.655      -0.783\n",
       "flipper_length_mm     0.2548      0.016     15.691      0.000       0.223       0.287\n",
       "==============================================================================\n",
       "Omnibus:                       35.275   Durbin-Watson:                   0.950\n",
       "Prob(Omnibus):                  0.000   Jarque-Bera (JB):               44.902\n",
       "Skew:                           0.783   Prob(JB):                     1.78e-10\n",
       "Kurtosis:                       3.886   Cond. No.                     2.90e+03\n",
       "==============================================================================\n",
       "\n",
       "Notes:\n",
       "[1] Standard Errors assume that the covariance matrix of the errors is correctly specified.\n",
       "[2] The condition number is large, 2.9e+03. This might indicate that there are\n",
       "strong multicollinearity or other numerical problems.\n",
       "\"\"\""
      ]
     },
     "execution_count": 90,
     "metadata": {},
     "output_type": "execute_result"
    }
   ],
   "source": [
    "model0 = ols(formula = 'bill_length_mm ~ flipper_length_mm', data=df_penguins)\n",
    "res = model0.fit()\n",
    "res.summary()"
   ]
  },
  {
   "cell_type": "code",
   "execution_count": 91,
   "id": "8204a327",
   "metadata": {},
   "outputs": [
    {
     "data": {
      "text/html": [
       "<table class=\"simpletable\">\n",
       "<caption>OLS Regression Results</caption>\n",
       "<tr>\n",
       "  <th>Dep. Variable:</th>     <td>bill_length_mm</td>  <th>  R-squared:         </th> <td>   0.052</td>\n",
       "</tr>\n",
       "<tr>\n",
       "  <th>Model:</th>                   <td>OLS</td>       <th>  Adj. R-squared:    </th> <td>   0.049</td>\n",
       "</tr>\n",
       "<tr>\n",
       "  <th>Method:</th>             <td>Least Squares</td>  <th>  F-statistic:       </th> <td>   18.26</td>\n",
       "</tr>\n",
       "<tr>\n",
       "  <th>Date:</th>             <td>Sun, 06 Feb 2022</td> <th>  Prob (F-statistic):</th> <td>2.53e-05</td>\n",
       "</tr>\n",
       "<tr>\n",
       "  <th>Time:</th>                 <td>15:59:25</td>     <th>  Log-Likelihood:    </th> <td> -1028.8</td>\n",
       "</tr>\n",
       "<tr>\n",
       "  <th>No. Observations:</th>      <td>   333</td>      <th>  AIC:               </th> <td>   2062.</td>\n",
       "</tr>\n",
       "<tr>\n",
       "  <th>Df Residuals:</th>          <td>   331</td>      <th>  BIC:               </th> <td>   2069.</td>\n",
       "</tr>\n",
       "<tr>\n",
       "  <th>Df Model:</th>              <td>     1</td>      <th>                     </th>     <td> </td>   \n",
       "</tr>\n",
       "<tr>\n",
       "  <th>Covariance Type:</th>      <td>nonrobust</td>    <th>                     </th>     <td> </td>   \n",
       "</tr>\n",
       "</table>\n",
       "<table class=\"simpletable\">\n",
       "<tr>\n",
       "        <td></td>           <th>coef</th>     <th>std err</th>      <th>t</th>      <th>P>|t|</th>  <th>[0.025</th>    <th>0.975]</th>  \n",
       "</tr>\n",
       "<tr>\n",
       "  <th>Intercept</th>     <td>   54.8909</td> <td>    2.567</td> <td>   21.380</td> <td> 0.000</td> <td>   49.840</td> <td>   59.941</td>\n",
       "</tr>\n",
       "<tr>\n",
       "  <th>bill_depth_mm</th> <td>   -0.6349</td> <td>    0.149</td> <td>   -4.273</td> <td> 0.000</td> <td>   -0.927</td> <td>   -0.343</td>\n",
       "</tr>\n",
       "</table>\n",
       "<table class=\"simpletable\">\n",
       "<tr>\n",
       "  <th>Omnibus:</th>       <td> 8.999</td> <th>  Durbin-Watson:     </th> <td>   1.148</td>\n",
       "</tr>\n",
       "<tr>\n",
       "  <th>Prob(Omnibus):</th> <td> 0.011</td> <th>  Jarque-Bera (JB):  </th> <td>   6.946</td>\n",
       "</tr>\n",
       "<tr>\n",
       "  <th>Skew:</th>          <td> 0.251</td> <th>  Prob(JB):          </th> <td>  0.0310</td>\n",
       "</tr>\n",
       "<tr>\n",
       "  <th>Kurtosis:</th>      <td> 2.501</td> <th>  Cond. No.          </th> <td>    152.</td>\n",
       "</tr>\n",
       "</table><br/><br/>Notes:<br/>[1] Standard Errors assume that the covariance matrix of the errors is correctly specified."
      ],
      "text/plain": [
       "<class 'statsmodels.iolib.summary.Summary'>\n",
       "\"\"\"\n",
       "                            OLS Regression Results                            \n",
       "==============================================================================\n",
       "Dep. Variable:         bill_length_mm   R-squared:                       0.052\n",
       "Model:                            OLS   Adj. R-squared:                  0.049\n",
       "Method:                 Least Squares   F-statistic:                     18.26\n",
       "Date:                Sun, 06 Feb 2022   Prob (F-statistic):           2.53e-05\n",
       "Time:                        15:59:25   Log-Likelihood:                -1028.8\n",
       "No. Observations:                 333   AIC:                             2062.\n",
       "Df Residuals:                     331   BIC:                             2069.\n",
       "Df Model:                           1                                         \n",
       "Covariance Type:            nonrobust                                         \n",
       "=================================================================================\n",
       "                    coef    std err          t      P>|t|      [0.025      0.975]\n",
       "---------------------------------------------------------------------------------\n",
       "Intercept        54.8909      2.567     21.380      0.000      49.840      59.941\n",
       "bill_depth_mm    -0.6349      0.149     -4.273      0.000      -0.927      -0.343\n",
       "==============================================================================\n",
       "Omnibus:                        8.999   Durbin-Watson:                   1.148\n",
       "Prob(Omnibus):                  0.011   Jarque-Bera (JB):                6.946\n",
       "Skew:                           0.251   Prob(JB):                       0.0310\n",
       "Kurtosis:                       2.501   Cond. No.                         152.\n",
       "==============================================================================\n",
       "\n",
       "Notes:\n",
       "[1] Standard Errors assume that the covariance matrix of the errors is correctly specified.\n",
       "\"\"\""
      ]
     },
     "execution_count": 91,
     "metadata": {},
     "output_type": "execute_result"
    }
   ],
   "source": [
    "model1 = ols(formula = 'bill_length_mm ~ bill_depth_mm', data=df_penguins)\n",
    "res = model1.fit()\n",
    "res.summary()"
   ]
  },
  {
   "cell_type": "code",
   "execution_count": 92,
   "id": "dc7ae4c6",
   "metadata": {},
   "outputs": [
    {
     "data": {
      "text/html": [
       "<table class=\"simpletable\">\n",
       "<caption>OLS Regression Results</caption>\n",
       "<tr>\n",
       "  <th>Dep. Variable:</th>     <td>bill_length_mm</td>  <th>  R-squared:         </th> <td>   0.347</td>\n",
       "</tr>\n",
       "<tr>\n",
       "  <th>Model:</th>                   <td>OLS</td>       <th>  Adj. R-squared:    </th> <td>   0.345</td>\n",
       "</tr>\n",
       "<tr>\n",
       "  <th>Method:</th>             <td>Least Squares</td>  <th>  F-statistic:       </th> <td>   176.2</td>\n",
       "</tr>\n",
       "<tr>\n",
       "  <th>Date:</th>             <td>Sun, 06 Feb 2022</td> <th>  Prob (F-statistic):</th> <td>1.54e-32</td>\n",
       "</tr>\n",
       "<tr>\n",
       "  <th>Time:</th>                 <td>15:59:29</td>     <th>  Log-Likelihood:    </th> <td> -966.71</td>\n",
       "</tr>\n",
       "<tr>\n",
       "  <th>No. Observations:</th>      <td>   333</td>      <th>  AIC:               </th> <td>   1937.</td>\n",
       "</tr>\n",
       "<tr>\n",
       "  <th>Df Residuals:</th>          <td>   331</td>      <th>  BIC:               </th> <td>   1945.</td>\n",
       "</tr>\n",
       "<tr>\n",
       "  <th>Df Model:</th>              <td>     1</td>      <th>                     </th>     <td> </td>   \n",
       "</tr>\n",
       "<tr>\n",
       "  <th>Covariance Type:</th>      <td>nonrobust</td>    <th>                     </th>     <td> </td>   \n",
       "</tr>\n",
       "</table>\n",
       "<table class=\"simpletable\">\n",
       "<tr>\n",
       "       <td></td>          <th>coef</th>     <th>std err</th>      <th>t</th>      <th>P>|t|</th>  <th>[0.025</th>    <th>0.975]</th>  \n",
       "</tr>\n",
       "<tr>\n",
       "  <th>Intercept</th>   <td>   27.1507</td> <td>    1.292</td> <td>   21.021</td> <td> 0.000</td> <td>   24.610</td> <td>   29.692</td>\n",
       "</tr>\n",
       "<tr>\n",
       "  <th>body_mass_g</th> <td>    0.0040</td> <td>    0.000</td> <td>   13.276</td> <td> 0.000</td> <td>    0.003</td> <td>    0.005</td>\n",
       "</tr>\n",
       "</table>\n",
       "<table class=\"simpletable\">\n",
       "<tr>\n",
       "  <th>Omnibus:</th>       <td>26.613</td> <th>  Durbin-Watson:     </th> <td>   0.673</td>\n",
       "</tr>\n",
       "<tr>\n",
       "  <th>Prob(Omnibus):</th> <td> 0.000</td> <th>  Jarque-Bera (JB):  </th> <td>  30.896</td>\n",
       "</tr>\n",
       "<tr>\n",
       "  <th>Skew:</th>          <td> 0.739</td> <th>  Prob(JB):          </th> <td>1.95e-07</td>\n",
       "</tr>\n",
       "<tr>\n",
       "  <th>Kurtosis:</th>      <td> 3.208</td> <th>  Cond. No.          </th> <td>2.28e+04</td>\n",
       "</tr>\n",
       "</table><br/><br/>Notes:<br/>[1] Standard Errors assume that the covariance matrix of the errors is correctly specified.<br/>[2] The condition number is large, 2.28e+04. This might indicate that there are<br/>strong multicollinearity or other numerical problems."
      ],
      "text/plain": [
       "<class 'statsmodels.iolib.summary.Summary'>\n",
       "\"\"\"\n",
       "                            OLS Regression Results                            \n",
       "==============================================================================\n",
       "Dep. Variable:         bill_length_mm   R-squared:                       0.347\n",
       "Model:                            OLS   Adj. R-squared:                  0.345\n",
       "Method:                 Least Squares   F-statistic:                     176.2\n",
       "Date:                Sun, 06 Feb 2022   Prob (F-statistic):           1.54e-32\n",
       "Time:                        15:59:29   Log-Likelihood:                -966.71\n",
       "No. Observations:                 333   AIC:                             1937.\n",
       "Df Residuals:                     331   BIC:                             1945.\n",
       "Df Model:                           1                                         \n",
       "Covariance Type:            nonrobust                                         \n",
       "===============================================================================\n",
       "                  coef    std err          t      P>|t|      [0.025      0.975]\n",
       "-------------------------------------------------------------------------------\n",
       "Intercept      27.1507      1.292     21.021      0.000      24.610      29.692\n",
       "body_mass_g     0.0040      0.000     13.276      0.000       0.003       0.005\n",
       "==============================================================================\n",
       "Omnibus:                       26.613   Durbin-Watson:                   0.673\n",
       "Prob(Omnibus):                  0.000   Jarque-Bera (JB):               30.896\n",
       "Skew:                           0.739   Prob(JB):                     1.95e-07\n",
       "Kurtosis:                       3.208   Cond. No.                     2.28e+04\n",
       "==============================================================================\n",
       "\n",
       "Notes:\n",
       "[1] Standard Errors assume that the covariance matrix of the errors is correctly specified.\n",
       "[2] The condition number is large, 2.28e+04. This might indicate that there are\n",
       "strong multicollinearity or other numerical problems.\n",
       "\"\"\""
      ]
     },
     "execution_count": 92,
     "metadata": {},
     "output_type": "execute_result"
    }
   ],
   "source": [
    "model2 = ols(formula = 'bill_length_mm ~ body_mass_g', data=df_penguins)\n",
    "res = model2.fit()\n",
    "res.summary()"
   ]
  },
  {
   "cell_type": "markdown",
   "id": "167a543f",
   "metadata": {},
   "source": [
    "$R^{2}$ for flipper length = .427 or 42.7%, for body mass = .347 or 34.7%"
   ]
  },
  {
   "cell_type": "markdown",
   "id": "66dfaa1d",
   "metadata": {},
   "source": [
    "#### Part B: What if we create a separate linear model for each *species* to predit bill lenght? Does the overall effectiveness of our model improve? Use $R^{2}$ values to make your decision."
   ]
  },
  {
   "cell_type": "code",
   "execution_count": 93,
   "id": "4137b2e0",
   "metadata": {},
   "outputs": [
    {
     "data": {
      "text/html": [
       "<div>\n",
       "<style scoped>\n",
       "    .dataframe tbody tr th:only-of-type {\n",
       "        vertical-align: middle;\n",
       "    }\n",
       "\n",
       "    .dataframe tbody tr th {\n",
       "        vertical-align: top;\n",
       "    }\n",
       "\n",
       "    .dataframe thead th {\n",
       "        text-align: right;\n",
       "    }\n",
       "</style>\n",
       "<table border=\"1\" class=\"dataframe\">\n",
       "  <thead>\n",
       "    <tr style=\"text-align: right;\">\n",
       "      <th></th>\n",
       "      <th>species</th>\n",
       "      <th>island</th>\n",
       "      <th>bill_length_mm</th>\n",
       "      <th>bill_depth_mm</th>\n",
       "      <th>flipper_length_mm</th>\n",
       "      <th>body_mass_g</th>\n",
       "      <th>sex</th>\n",
       "    </tr>\n",
       "  </thead>\n",
       "  <tbody>\n",
       "    <tr>\n",
       "      <th>0</th>\n",
       "      <td>Adelie</td>\n",
       "      <td>Torgersen</td>\n",
       "      <td>39.1</td>\n",
       "      <td>18.7</td>\n",
       "      <td>181.0</td>\n",
       "      <td>3750.0</td>\n",
       "      <td>Male</td>\n",
       "    </tr>\n",
       "    <tr>\n",
       "      <th>1</th>\n",
       "      <td>Adelie</td>\n",
       "      <td>Torgersen</td>\n",
       "      <td>39.5</td>\n",
       "      <td>17.4</td>\n",
       "      <td>186.0</td>\n",
       "      <td>3800.0</td>\n",
       "      <td>Female</td>\n",
       "    </tr>\n",
       "    <tr>\n",
       "      <th>2</th>\n",
       "      <td>Adelie</td>\n",
       "      <td>Torgersen</td>\n",
       "      <td>40.3</td>\n",
       "      <td>18.0</td>\n",
       "      <td>195.0</td>\n",
       "      <td>3250.0</td>\n",
       "      <td>Female</td>\n",
       "    </tr>\n",
       "    <tr>\n",
       "      <th>4</th>\n",
       "      <td>Adelie</td>\n",
       "      <td>Torgersen</td>\n",
       "      <td>36.7</td>\n",
       "      <td>19.3</td>\n",
       "      <td>193.0</td>\n",
       "      <td>3450.0</td>\n",
       "      <td>Female</td>\n",
       "    </tr>\n",
       "    <tr>\n",
       "      <th>5</th>\n",
       "      <td>Adelie</td>\n",
       "      <td>Torgersen</td>\n",
       "      <td>39.3</td>\n",
       "      <td>20.6</td>\n",
       "      <td>190.0</td>\n",
       "      <td>3650.0</td>\n",
       "      <td>Male</td>\n",
       "    </tr>\n",
       "  </tbody>\n",
       "</table>\n",
       "</div>"
      ],
      "text/plain": [
       "  species     island  bill_length_mm  bill_depth_mm  flipper_length_mm  \\\n",
       "0  Adelie  Torgersen            39.1           18.7              181.0   \n",
       "1  Adelie  Torgersen            39.5           17.4              186.0   \n",
       "2  Adelie  Torgersen            40.3           18.0              195.0   \n",
       "4  Adelie  Torgersen            36.7           19.3              193.0   \n",
       "5  Adelie  Torgersen            39.3           20.6              190.0   \n",
       "\n",
       "   body_mass_g     sex  \n",
       "0       3750.0    Male  \n",
       "1       3800.0  Female  \n",
       "2       3250.0  Female  \n",
       "4       3450.0  Female  \n",
       "5       3650.0    Male  "
      ]
     },
     "execution_count": 93,
     "metadata": {},
     "output_type": "execute_result"
    }
   ],
   "source": [
    "df_adelie = df_penguins[df_penguins['species'] == \"Adelie\"]\n",
    "df_adelie.head()"
   ]
  },
  {
   "cell_type": "code",
   "execution_count": 94,
   "id": "f1943b0a",
   "metadata": {},
   "outputs": [
    {
     "data": {
      "text/plain": [
       "<seaborn.axisgrid.PairGrid at 0x2b28dd72d60>"
      ]
     },
     "execution_count": 94,
     "metadata": {},
     "output_type": "execute_result"
    },
    {
     "data": {
      "image/png": "[encoded data removed]",
      "text/plain": [
       "<Figure size 540x180 with 3 Axes>"
      ]
     },
     "metadata": {
      "needs_background": "light"
     },
     "output_type": "display_data"
    }
   ],
   "source": [
    "sns.pairplot(df_adelie,\n",
    "             y_vars = ['bill_length_mm'],\n",
    "             x_vars= ['bill_depth_mm', 'flipper_length_mm', 'body_mass_g'])"
   ]
  },
  {
   "cell_type": "code",
   "execution_count": 95,
   "id": "a26a7c14",
   "metadata": {},
   "outputs": [
    {
     "data": {
      "text/html": [
       "<table class=\"simpletable\">\n",
       "<caption>OLS Regression Results</caption>\n",
       "<tr>\n",
       "  <th>Dep. Variable:</th>     <td>bill_length_mm</td>  <th>  R-squared:         </th> <td>   0.110</td>\n",
       "</tr>\n",
       "<tr>\n",
       "  <th>Model:</th>                   <td>OLS</td>       <th>  Adj. R-squared:    </th> <td>   0.104</td>\n",
       "</tr>\n",
       "<tr>\n",
       "  <th>Method:</th>             <td>Least Squares</td>  <th>  F-statistic:       </th> <td>   17.87</td>\n",
       "</tr>\n",
       "<tr>\n",
       "  <th>Date:</th>             <td>Sun, 06 Feb 2022</td> <th>  Prob (F-statistic):</th> <td>4.18e-05</td>\n",
       "</tr>\n",
       "<tr>\n",
       "  <th>Time:</th>                 <td>15:59:42</td>     <th>  Log-Likelihood:    </th> <td> -341.10</td>\n",
       "</tr>\n",
       "<tr>\n",
       "  <th>No. Observations:</th>      <td>   146</td>      <th>  AIC:               </th> <td>   686.2</td>\n",
       "</tr>\n",
       "<tr>\n",
       "  <th>Df Residuals:</th>          <td>   144</td>      <th>  BIC:               </th> <td>   692.2</td>\n",
       "</tr>\n",
       "<tr>\n",
       "  <th>Df Model:</th>              <td>     1</td>      <th>                     </th>     <td> </td>   \n",
       "</tr>\n",
       "<tr>\n",
       "  <th>Covariance Type:</th>      <td>nonrobust</td>    <th>                     </th>     <td> </td>   \n",
       "</tr>\n",
       "</table>\n",
       "<table class=\"simpletable\">\n",
       "<tr>\n",
       "          <td></td>             <th>coef</th>     <th>std err</th>      <th>t</th>      <th>P>|t|</th>  <th>[0.025</th>    <th>0.975]</th>  \n",
       "</tr>\n",
       "<tr>\n",
       "  <th>Intercept</th>         <td>   13.0358</td> <td>    6.104</td> <td>    2.136</td> <td> 0.034</td> <td>    0.971</td> <td>   25.100</td>\n",
       "</tr>\n",
       "<tr>\n",
       "  <th>flipper_length_mm</th> <td>    0.1357</td> <td>    0.032</td> <td>    4.227</td> <td> 0.000</td> <td>    0.072</td> <td>    0.199</td>\n",
       "</tr>\n",
       "</table>\n",
       "<table class=\"simpletable\">\n",
       "<tr>\n",
       "  <th>Omnibus:</th>       <td> 0.156</td> <th>  Durbin-Watson:     </th> <td>   2.610</td>\n",
       "</tr>\n",
       "<tr>\n",
       "  <th>Prob(Omnibus):</th> <td> 0.925</td> <th>  Jarque-Bera (JB):  </th> <td>   0.323</td>\n",
       "</tr>\n",
       "<tr>\n",
       "  <th>Skew:</th>          <td>-0.002</td> <th>  Prob(JB):          </th> <td>   0.851</td>\n",
       "</tr>\n",
       "<tr>\n",
       "  <th>Kurtosis:</th>      <td> 2.770</td> <th>  Cond. No.          </th> <td>5.57e+03</td>\n",
       "</tr>\n",
       "</table><br/><br/>Notes:<br/>[1] Standard Errors assume that the covariance matrix of the errors is correctly specified.<br/>[2] The condition number is large, 5.57e+03. This might indicate that there are<br/>strong multicollinearity or other numerical problems."
      ],
      "text/plain": [
       "<class 'statsmodels.iolib.summary.Summary'>\n",
       "\"\"\"\n",
       "                            OLS Regression Results                            \n",
       "==============================================================================\n",
       "Dep. Variable:         bill_length_mm   R-squared:                       0.110\n",
       "Model:                            OLS   Adj. R-squared:                  0.104\n",
       "Method:                 Least Squares   F-statistic:                     17.87\n",
       "Date:                Sun, 06 Feb 2022   Prob (F-statistic):           4.18e-05\n",
       "Time:                        15:59:42   Log-Likelihood:                -341.10\n",
       "No. Observations:                 146   AIC:                             686.2\n",
       "Df Residuals:                     144   BIC:                             692.2\n",
       "Df Model:                           1                                         \n",
       "Covariance Type:            nonrobust                                         \n",
       "=====================================================================================\n",
       "                        coef    std err          t      P>|t|      [0.025      0.975]\n",
       "-------------------------------------------------------------------------------------\n",
       "Intercept            13.0358      6.104      2.136      0.034       0.971      25.100\n",
       "flipper_length_mm     0.1357      0.032      4.227      0.000       0.072       0.199\n",
       "==============================================================================\n",
       "Omnibus:                        0.156   Durbin-Watson:                   2.610\n",
       "Prob(Omnibus):                  0.925   Jarque-Bera (JB):                0.323\n",
       "Skew:                          -0.002   Prob(JB):                        0.851\n",
       "Kurtosis:                       2.770   Cond. No.                     5.57e+03\n",
       "==============================================================================\n",
       "\n",
       "Notes:\n",
       "[1] Standard Errors assume that the covariance matrix of the errors is correctly specified.\n",
       "[2] The condition number is large, 5.57e+03. This might indicate that there are\n",
       "strong multicollinearity or other numerical problems.\n",
       "\"\"\""
      ]
     },
     "execution_count": 95,
     "metadata": {},
     "output_type": "execute_result"
    }
   ],
   "source": [
    "model3 = ols(formula = 'bill_length_mm ~ flipper_length_mm', data=df_adelie)\n",
    "res = model3.fit()\n",
    "res.summary()"
   ]
  },
  {
   "cell_type": "code",
   "execution_count": 96,
   "id": "0f7aa56b",
   "metadata": {},
   "outputs": [
    {
     "data": {
      "text/html": [
       "<table class=\"simpletable\">\n",
       "<caption>OLS Regression Results</caption>\n",
       "<tr>\n",
       "  <th>Dep. Variable:</th>     <td>bill_length_mm</td>  <th>  R-squared:         </th> <td>   0.149</td>\n",
       "</tr>\n",
       "<tr>\n",
       "  <th>Model:</th>                   <td>OLS</td>       <th>  Adj. R-squared:    </th> <td>   0.143</td>\n",
       "</tr>\n",
       "<tr>\n",
       "  <th>Method:</th>             <td>Least Squares</td>  <th>  F-statistic:       </th> <td>   25.18</td>\n",
       "</tr>\n",
       "<tr>\n",
       "  <th>Date:</th>             <td>Sun, 06 Feb 2022</td> <th>  Prob (F-statistic):</th> <td>1.51e-06</td>\n",
       "</tr>\n",
       "<tr>\n",
       "  <th>Time:</th>                 <td>15:59:54</td>     <th>  Log-Likelihood:    </th> <td> -337.88</td>\n",
       "</tr>\n",
       "<tr>\n",
       "  <th>No. Observations:</th>      <td>   146</td>      <th>  AIC:               </th> <td>   679.8</td>\n",
       "</tr>\n",
       "<tr>\n",
       "  <th>Df Residuals:</th>          <td>   144</td>      <th>  BIC:               </th> <td>   685.7</td>\n",
       "</tr>\n",
       "<tr>\n",
       "  <th>Df Model:</th>              <td>     1</td>      <th>                     </th>     <td> </td>   \n",
       "</tr>\n",
       "<tr>\n",
       "  <th>Covariance Type:</th>      <td>nonrobust</td>    <th>                     </th>     <td> </td>   \n",
       "</tr>\n",
       "</table>\n",
       "<table class=\"simpletable\">\n",
       "<tr>\n",
       "        <td></td>           <th>coef</th>     <th>std err</th>      <th>t</th>      <th>P>|t|</th>  <th>[0.025</th>    <th>0.975]</th>  \n",
       "</tr>\n",
       "<tr>\n",
       "  <th>Intercept</th>     <td>   23.3668</td> <td>    3.087</td> <td>    7.570</td> <td> 0.000</td> <td>   17.265</td> <td>   29.468</td>\n",
       "</tr>\n",
       "<tr>\n",
       "  <th>bill_depth_mm</th> <td>    0.8425</td> <td>    0.168</td> <td>    5.018</td> <td> 0.000</td> <td>    0.511</td> <td>    1.174</td>\n",
       "</tr>\n",
       "</table>\n",
       "<table class=\"simpletable\">\n",
       "<tr>\n",
       "  <th>Omnibus:</th>       <td> 0.678</td> <th>  Durbin-Watson:     </th> <td>   2.456</td>\n",
       "</tr>\n",
       "<tr>\n",
       "  <th>Prob(Omnibus):</th> <td> 0.712</td> <th>  Jarque-Bera (JB):  </th> <td>   0.763</td>\n",
       "</tr>\n",
       "<tr>\n",
       "  <th>Skew:</th>          <td> 0.012</td> <th>  Prob(JB):          </th> <td>   0.683</td>\n",
       "</tr>\n",
       "<tr>\n",
       "  <th>Kurtosis:</th>      <td> 2.647</td> <th>  Cond. No.          </th> <td>    279.</td>\n",
       "</tr>\n",
       "</table><br/><br/>Notes:<br/>[1] Standard Errors assume that the covariance matrix of the errors is correctly specified."
      ],
      "text/plain": [
       "<class 'statsmodels.iolib.summary.Summary'>\n",
       "\"\"\"\n",
       "                            OLS Regression Results                            \n",
       "==============================================================================\n",
       "Dep. Variable:         bill_length_mm   R-squared:                       0.149\n",
       "Model:                            OLS   Adj. R-squared:                  0.143\n",
       "Method:                 Least Squares   F-statistic:                     25.18\n",
       "Date:                Sun, 06 Feb 2022   Prob (F-statistic):           1.51e-06\n",
       "Time:                        15:59:54   Log-Likelihood:                -337.88\n",
       "No. Observations:                 146   AIC:                             679.8\n",
       "Df Residuals:                     144   BIC:                             685.7\n",
       "Df Model:                           1                                         \n",
       "Covariance Type:            nonrobust                                         \n",
       "=================================================================================\n",
       "                    coef    std err          t      P>|t|      [0.025      0.975]\n",
       "---------------------------------------------------------------------------------\n",
       "Intercept        23.3668      3.087      7.570      0.000      17.265      29.468\n",
       "bill_depth_mm     0.8425      0.168      5.018      0.000       0.511       1.174\n",
       "==============================================================================\n",
       "Omnibus:                        0.678   Durbin-Watson:                   2.456\n",
       "Prob(Omnibus):                  0.712   Jarque-Bera (JB):                0.763\n",
       "Skew:                           0.012   Prob(JB):                        0.683\n",
       "Kurtosis:                       2.647   Cond. No.                         279.\n",
       "==============================================================================\n",
       "\n",
       "Notes:\n",
       "[1] Standard Errors assume that the covariance matrix of the errors is correctly specified.\n",
       "\"\"\""
      ]
     },
     "execution_count": 96,
     "metadata": {},
     "output_type": "execute_result"
    }
   ],
   "source": [
    "model4 = ols(formula = 'bill_length_mm ~ bill_depth_mm', data=df_adelie)\n",
    "res = model4.fit()\n",
    "res.summary()"
   ]
  },
  {
   "cell_type": "code",
   "execution_count": 97,
   "id": "7d111153",
   "metadata": {},
   "outputs": [
    {
     "data": {
      "text/html": [
       "<table class=\"simpletable\">\n",
       "<caption>OLS Regression Results</caption>\n",
       "<tr>\n",
       "  <th>Dep. Variable:</th>     <td>bill_length_mm</td>  <th>  R-squared:         </th> <td>   0.296</td>\n",
       "</tr>\n",
       "<tr>\n",
       "  <th>Model:</th>                   <td>OLS</td>       <th>  Adj. R-squared:    </th> <td>   0.291</td>\n",
       "</tr>\n",
       "<tr>\n",
       "  <th>Method:</th>             <td>Least Squares</td>  <th>  F-statistic:       </th> <td>   60.61</td>\n",
       "</tr>\n",
       "<tr>\n",
       "  <th>Date:</th>             <td>Sun, 06 Feb 2022</td> <th>  Prob (F-statistic):</th> <td>1.24e-12</td>\n",
       "</tr>\n",
       "<tr>\n",
       "  <th>Time:</th>                 <td>15:59:57</td>     <th>  Log-Likelihood:    </th> <td> -324.00</td>\n",
       "</tr>\n",
       "<tr>\n",
       "  <th>No. Observations:</th>      <td>   146</td>      <th>  AIC:               </th> <td>   652.0</td>\n",
       "</tr>\n",
       "<tr>\n",
       "  <th>Df Residuals:</th>          <td>   144</td>      <th>  BIC:               </th> <td>   658.0</td>\n",
       "</tr>\n",
       "<tr>\n",
       "  <th>Df Model:</th>              <td>     1</td>      <th>                     </th>     <td> </td>   \n",
       "</tr>\n",
       "<tr>\n",
       "  <th>Covariance Type:</th>      <td>nonrobust</td>    <th>                     </th>     <td> </td>   \n",
       "</tr>\n",
       "</table>\n",
       "<table class=\"simpletable\">\n",
       "<tr>\n",
       "       <td></td>          <th>coef</th>     <th>std err</th>      <th>t</th>      <th>P>|t|</th>  <th>[0.025</th>    <th>0.975]</th>  \n",
       "</tr>\n",
       "<tr>\n",
       "  <th>Intercept</th>   <td>   27.1129</td> <td>    1.516</td> <td>   17.889</td> <td> 0.000</td> <td>   24.117</td> <td>   30.109</td>\n",
       "</tr>\n",
       "<tr>\n",
       "  <th>body_mass_g</th> <td>    0.0032</td> <td>    0.000</td> <td>    7.786</td> <td> 0.000</td> <td>    0.002</td> <td>    0.004</td>\n",
       "</tr>\n",
       "</table>\n",
       "<table class=\"simpletable\">\n",
       "<tr>\n",
       "  <th>Omnibus:</th>       <td> 0.100</td> <th>  Durbin-Watson:     </th> <td>   2.225</td>\n",
       "</tr>\n",
       "<tr>\n",
       "  <th>Prob(Omnibus):</th> <td> 0.951</td> <th>  Jarque-Bera (JB):  </th> <td>   0.130</td>\n",
       "</tr>\n",
       "<tr>\n",
       "  <th>Skew:</th>          <td>-0.060</td> <th>  Prob(JB):          </th> <td>   0.937</td>\n",
       "</tr>\n",
       "<tr>\n",
       "  <th>Kurtosis:</th>      <td> 2.918</td> <th>  Cond. No.          </th> <td>3.05e+04</td>\n",
       "</tr>\n",
       "</table><br/><br/>Notes:<br/>[1] Standard Errors assume that the covariance matrix of the errors is correctly specified.<br/>[2] The condition number is large, 3.05e+04. This might indicate that there are<br/>strong multicollinearity or other numerical problems."
      ],
      "text/plain": [
       "<class 'statsmodels.iolib.summary.Summary'>\n",
       "\"\"\"\n",
       "                            OLS Regression Results                            \n",
       "==============================================================================\n",
       "Dep. Variable:         bill_length_mm   R-squared:                       0.296\n",
       "Model:                            OLS   Adj. R-squared:                  0.291\n",
       "Method:                 Least Squares   F-statistic:                     60.61\n",
       "Date:                Sun, 06 Feb 2022   Prob (F-statistic):           1.24e-12\n",
       "Time:                        15:59:57   Log-Likelihood:                -324.00\n",
       "No. Observations:                 146   AIC:                             652.0\n",
       "Df Residuals:                     144   BIC:                             658.0\n",
       "Df Model:                           1                                         \n",
       "Covariance Type:            nonrobust                                         \n",
       "===============================================================================\n",
       "                  coef    std err          t      P>|t|      [0.025      0.975]\n",
       "-------------------------------------------------------------------------------\n",
       "Intercept      27.1129      1.516     17.889      0.000      24.117      30.109\n",
       "body_mass_g     0.0032      0.000      7.786      0.000       0.002       0.004\n",
       "==============================================================================\n",
       "Omnibus:                        0.100   Durbin-Watson:                   2.225\n",
       "Prob(Omnibus):                  0.951   Jarque-Bera (JB):                0.130\n",
       "Skew:                          -0.060   Prob(JB):                        0.937\n",
       "Kurtosis:                       2.918   Cond. No.                     3.05e+04\n",
       "==============================================================================\n",
       "\n",
       "Notes:\n",
       "[1] Standard Errors assume that the covariance matrix of the errors is correctly specified.\n",
       "[2] The condition number is large, 3.05e+04. This might indicate that there are\n",
       "strong multicollinearity or other numerical problems.\n",
       "\"\"\""
      ]
     },
     "execution_count": 97,
     "metadata": {},
     "output_type": "execute_result"
    }
   ],
   "source": [
    "model5 = ols(formula = 'bill_length_mm ~ body_mass_g', data=df_adelie)\n",
    "res = model5.fit()\n",
    "res.summary()"
   ]
  },
  {
   "cell_type": "markdown",
   "id": "ca8e6ede",
   "metadata": {},
   "source": [
    "$R^{2}$ for flipper length for Adelie = .110 pr 11%, for bill depth = .149 or 14.9%, for body mass = .296 or 29.6%. These $R^{2}$ values show that these models are not a good fit."
   ]
  },
  {
   "cell_type": "code",
   "execution_count": 98,
   "id": "4094c76a",
   "metadata": {},
   "outputs": [
    {
     "data": {
      "text/html": [
       "<div>\n",
       "<style scoped>\n",
       "    .dataframe tbody tr th:only-of-type {\n",
       "        vertical-align: middle;\n",
       "    }\n",
       "\n",
       "    .dataframe tbody tr th {\n",
       "        vertical-align: top;\n",
       "    }\n",
       "\n",
       "    .dataframe thead th {\n",
       "        text-align: right;\n",
       "    }\n",
       "</style>\n",
       "<table border=\"1\" class=\"dataframe\">\n",
       "  <thead>\n",
       "    <tr style=\"text-align: right;\">\n",
       "      <th></th>\n",
       "      <th>species</th>\n",
       "      <th>island</th>\n",
       "      <th>bill_length_mm</th>\n",
       "      <th>bill_depth_mm</th>\n",
       "      <th>flipper_length_mm</th>\n",
       "      <th>body_mass_g</th>\n",
       "      <th>sex</th>\n",
       "    </tr>\n",
       "  </thead>\n",
       "  <tbody>\n",
       "    <tr>\n",
       "      <th>152</th>\n",
       "      <td>Chinstrap</td>\n",
       "      <td>Dream</td>\n",
       "      <td>46.5</td>\n",
       "      <td>17.9</td>\n",
       "      <td>192.0</td>\n",
       "      <td>3500.0</td>\n",
       "      <td>Female</td>\n",
       "    </tr>\n",
       "    <tr>\n",
       "      <th>153</th>\n",
       "      <td>Chinstrap</td>\n",
       "      <td>Dream</td>\n",
       "      <td>50.0</td>\n",
       "      <td>19.5</td>\n",
       "      <td>196.0</td>\n",
       "      <td>3900.0</td>\n",
       "      <td>Male</td>\n",
       "    </tr>\n",
       "    <tr>\n",
       "      <th>154</th>\n",
       "      <td>Chinstrap</td>\n",
       "      <td>Dream</td>\n",
       "      <td>51.3</td>\n",
       "      <td>19.2</td>\n",
       "      <td>193.0</td>\n",
       "      <td>3650.0</td>\n",
       "      <td>Male</td>\n",
       "    </tr>\n",
       "    <tr>\n",
       "      <th>155</th>\n",
       "      <td>Chinstrap</td>\n",
       "      <td>Dream</td>\n",
       "      <td>45.4</td>\n",
       "      <td>18.7</td>\n",
       "      <td>188.0</td>\n",
       "      <td>3525.0</td>\n",
       "      <td>Female</td>\n",
       "    </tr>\n",
       "    <tr>\n",
       "      <th>156</th>\n",
       "      <td>Chinstrap</td>\n",
       "      <td>Dream</td>\n",
       "      <td>52.7</td>\n",
       "      <td>19.8</td>\n",
       "      <td>197.0</td>\n",
       "      <td>3725.0</td>\n",
       "      <td>Male</td>\n",
       "    </tr>\n",
       "  </tbody>\n",
       "</table>\n",
       "</div>"
      ],
      "text/plain": [
       "       species island  bill_length_mm  bill_depth_mm  flipper_length_mm  \\\n",
       "152  Chinstrap  Dream            46.5           17.9              192.0   \n",
       "153  Chinstrap  Dream            50.0           19.5              196.0   \n",
       "154  Chinstrap  Dream            51.3           19.2              193.0   \n",
       "155  Chinstrap  Dream            45.4           18.7              188.0   \n",
       "156  Chinstrap  Dream            52.7           19.8              197.0   \n",
       "\n",
       "     body_mass_g     sex  \n",
       "152       3500.0  Female  \n",
       "153       3900.0    Male  \n",
       "154       3650.0    Male  \n",
       "155       3525.0  Female  \n",
       "156       3725.0    Male  "
      ]
     },
     "execution_count": 98,
     "metadata": {},
     "output_type": "execute_result"
    }
   ],
   "source": [
    "df_chin = df_penguins[df_penguins['species'] == \"Chinstrap\"]\n",
    "df_chin.head()"
   ]
  },
  {
   "cell_type": "code",
   "execution_count": 99,
   "id": "f0afb445",
   "metadata": {},
   "outputs": [
    {
     "data": {
      "text/plain": [
       "<seaborn.axisgrid.PairGrid at 0x2b28df0de80>"
      ]
     },
     "execution_count": 99,
     "metadata": {},
     "output_type": "execute_result"
    },
    {
     "data": {
      "image/png": "[encoded data removed]",
      "text/plain": [
       "<Figure size 540x180 with 3 Axes>"
      ]
     },
     "metadata": {
      "needs_background": "light"
     },
     "output_type": "display_data"
    }
   ],
   "source": [
    "sns.pairplot(df_chin,\n",
    "             y_vars = ['bill_length_mm'],\n",
    "             x_vars= ['bill_depth_mm', 'flipper_length_mm', 'body_mass_g'])"
   ]
  },
  {
   "cell_type": "code",
   "execution_count": 100,
   "id": "6c3888b7",
   "metadata": {},
   "outputs": [
    {
     "data": {
      "text/html": [
       "<table class=\"simpletable\">\n",
       "<caption>OLS Regression Results</caption>\n",
       "<tr>\n",
       "  <th>Dep. Variable:</th>     <td>bill_length_mm</td>  <th>  R-squared:         </th> <td>   0.222</td>\n",
       "</tr>\n",
       "<tr>\n",
       "  <th>Model:</th>                   <td>OLS</td>       <th>  Adj. R-squared:    </th> <td>   0.211</td>\n",
       "</tr>\n",
       "<tr>\n",
       "  <th>Method:</th>             <td>Least Squares</td>  <th>  F-statistic:       </th> <td>   18.88</td>\n",
       "</tr>\n",
       "<tr>\n",
       "  <th>Date:</th>             <td>Sun, 06 Feb 2022</td> <th>  Prob (F-statistic):</th> <td>4.92e-05</td>\n",
       "</tr>\n",
       "<tr>\n",
       "  <th>Time:</th>                 <td>16:00:05</td>     <th>  Log-Likelihood:    </th> <td> -169.42</td>\n",
       "</tr>\n",
       "<tr>\n",
       "  <th>No. Observations:</th>      <td>    68</td>      <th>  AIC:               </th> <td>   342.8</td>\n",
       "</tr>\n",
       "<tr>\n",
       "  <th>Df Residuals:</th>          <td>    66</td>      <th>  BIC:               </th> <td>   347.3</td>\n",
       "</tr>\n",
       "<tr>\n",
       "  <th>Df Model:</th>              <td>     1</td>      <th>                     </th>     <td> </td>   \n",
       "</tr>\n",
       "<tr>\n",
       "  <th>Covariance Type:</th>      <td>nonrobust</td>    <th>                     </th>     <td> </td>   \n",
       "</tr>\n",
       "</table>\n",
       "<table class=\"simpletable\">\n",
       "<tr>\n",
       "          <td></td>             <th>coef</th>     <th>std err</th>      <th>t</th>      <th>P>|t|</th>  <th>[0.025</th>    <th>0.975]</th>  \n",
       "</tr>\n",
       "<tr>\n",
       "  <th>Intercept</th>         <td>    5.5934</td> <td>    9.959</td> <td>    0.562</td> <td> 0.576</td> <td>  -14.289</td> <td>   25.476</td>\n",
       "</tr>\n",
       "<tr>\n",
       "  <th>flipper_length_mm</th> <td>    0.2208</td> <td>    0.051</td> <td>    4.345</td> <td> 0.000</td> <td>    0.119</td> <td>    0.322</td>\n",
       "</tr>\n",
       "</table>\n",
       "<table class=\"simpletable\">\n",
       "<tr>\n",
       "  <th>Omnibus:</th>       <td>18.050</td> <th>  Durbin-Watson:     </th> <td>   2.877</td>\n",
       "</tr>\n",
       "<tr>\n",
       "  <th>Prob(Omnibus):</th> <td> 0.000</td> <th>  Jarque-Bera (JB):  </th> <td>  38.168</td>\n",
       "</tr>\n",
       "<tr>\n",
       "  <th>Skew:</th>          <td> 0.816</td> <th>  Prob(JB):          </th> <td>5.15e-09</td>\n",
       "</tr>\n",
       "<tr>\n",
       "  <th>Kurtosis:</th>      <td> 6.288</td> <th>  Cond. No.          </th> <td>5.42e+03</td>\n",
       "</tr>\n",
       "</table><br/><br/>Notes:<br/>[1] Standard Errors assume that the covariance matrix of the errors is correctly specified.<br/>[2] The condition number is large, 5.42e+03. This might indicate that there are<br/>strong multicollinearity or other numerical problems."
      ],
      "text/plain": [
       "<class 'statsmodels.iolib.summary.Summary'>\n",
       "\"\"\"\n",
       "                            OLS Regression Results                            \n",
       "==============================================================================\n",
       "Dep. Variable:         bill_length_mm   R-squared:                       0.222\n",
       "Model:                            OLS   Adj. R-squared:                  0.211\n",
       "Method:                 Least Squares   F-statistic:                     18.88\n",
       "Date:                Sun, 06 Feb 2022   Prob (F-statistic):           4.92e-05\n",
       "Time:                        16:00:05   Log-Likelihood:                -169.42\n",
       "No. Observations:                  68   AIC:                             342.8\n",
       "Df Residuals:                      66   BIC:                             347.3\n",
       "Df Model:                           1                                         \n",
       "Covariance Type:            nonrobust                                         \n",
       "=====================================================================================\n",
       "                        coef    std err          t      P>|t|      [0.025      0.975]\n",
       "-------------------------------------------------------------------------------------\n",
       "Intercept             5.5934      9.959      0.562      0.576     -14.289      25.476\n",
       "flipper_length_mm     0.2208      0.051      4.345      0.000       0.119       0.322\n",
       "==============================================================================\n",
       "Omnibus:                       18.050   Durbin-Watson:                   2.877\n",
       "Prob(Omnibus):                  0.000   Jarque-Bera (JB):               38.168\n",
       "Skew:                           0.816   Prob(JB):                     5.15e-09\n",
       "Kurtosis:                       6.288   Cond. No.                     5.42e+03\n",
       "==============================================================================\n",
       "\n",
       "Notes:\n",
       "[1] Standard Errors assume that the covariance matrix of the errors is correctly specified.\n",
       "[2] The condition number is large, 5.42e+03. This might indicate that there are\n",
       "strong multicollinearity or other numerical problems.\n",
       "\"\"\""
      ]
     },
     "execution_count": 100,
     "metadata": {},
     "output_type": "execute_result"
    }
   ],
   "source": [
    "model6 = ols(formula = 'bill_length_mm ~ flipper_length_mm', data=df_chin)\n",
    "res = model6.fit()\n",
    "res.summary()"
   ]
  },
  {
   "cell_type": "code",
   "execution_count": 101,
   "id": "cf60cd3e",
   "metadata": {},
   "outputs": [
    {
     "data": {
      "text/html": [
       "<table class=\"simpletable\">\n",
       "<caption>OLS Regression Results</caption>\n",
       "<tr>\n",
       "  <th>Dep. Variable:</th>     <td>bill_length_mm</td>  <th>  R-squared:         </th> <td>   0.427</td>\n",
       "</tr>\n",
       "<tr>\n",
       "  <th>Model:</th>                   <td>OLS</td>       <th>  Adj. R-squared:    </th> <td>   0.418</td>\n",
       "</tr>\n",
       "<tr>\n",
       "  <th>Method:</th>             <td>Least Squares</td>  <th>  F-statistic:       </th> <td>   49.21</td>\n",
       "</tr>\n",
       "<tr>\n",
       "  <th>Date:</th>             <td>Sun, 06 Feb 2022</td> <th>  Prob (F-statistic):</th> <td>1.53e-09</td>\n",
       "</tr>\n",
       "<tr>\n",
       "  <th>Time:</th>                 <td>16:00:09</td>     <th>  Log-Likelihood:    </th> <td> -159.03</td>\n",
       "</tr>\n",
       "<tr>\n",
       "  <th>No. Observations:</th>      <td>    68</td>      <th>  AIC:               </th> <td>   322.1</td>\n",
       "</tr>\n",
       "<tr>\n",
       "  <th>Df Residuals:</th>          <td>    66</td>      <th>  BIC:               </th> <td>   326.5</td>\n",
       "</tr>\n",
       "<tr>\n",
       "  <th>Df Model:</th>              <td>     1</td>      <th>                     </th>     <td> </td>   \n",
       "</tr>\n",
       "<tr>\n",
       "  <th>Covariance Type:</th>      <td>nonrobust</td>    <th>                     </th>     <td> </td>   \n",
       "</tr>\n",
       "</table>\n",
       "<table class=\"simpletable\">\n",
       "<tr>\n",
       "        <td></td>           <th>coef</th>     <th>std err</th>      <th>t</th>      <th>P>|t|</th>  <th>[0.025</th>    <th>0.975]</th>  \n",
       "</tr>\n",
       "<tr>\n",
       "  <th>Intercept</th>     <td>   13.4279</td> <td>    5.057</td> <td>    2.655</td> <td> 0.010</td> <td>    3.332</td> <td>   23.524</td>\n",
       "</tr>\n",
       "<tr>\n",
       "  <th>bill_depth_mm</th> <td>    1.9221</td> <td>    0.274</td> <td>    7.015</td> <td> 0.000</td> <td>    1.375</td> <td>    2.469</td>\n",
       "</tr>\n",
       "</table>\n",
       "<table class=\"simpletable\">\n",
       "<tr>\n",
       "  <th>Omnibus:</th>       <td>14.567</td> <th>  Durbin-Watson:     </th> <td>   2.553</td>\n",
       "</tr>\n",
       "<tr>\n",
       "  <th>Prob(Omnibus):</th> <td> 0.001</td> <th>  Jarque-Bera (JB):  </th> <td>  27.201</td>\n",
       "</tr>\n",
       "<tr>\n",
       "  <th>Skew:</th>          <td> 0.682</td> <th>  Prob(JB):          </th> <td>1.24e-06</td>\n",
       "</tr>\n",
       "<tr>\n",
       "  <th>Kurtosis:</th>      <td> 5.782</td> <th>  Cond. No.          </th> <td>    303.</td>\n",
       "</tr>\n",
       "</table><br/><br/>Notes:<br/>[1] Standard Errors assume that the covariance matrix of the errors is correctly specified."
      ],
      "text/plain": [
       "<class 'statsmodels.iolib.summary.Summary'>\n",
       "\"\"\"\n",
       "                            OLS Regression Results                            \n",
       "==============================================================================\n",
       "Dep. Variable:         bill_length_mm   R-squared:                       0.427\n",
       "Model:                            OLS   Adj. R-squared:                  0.418\n",
       "Method:                 Least Squares   F-statistic:                     49.21\n",
       "Date:                Sun, 06 Feb 2022   Prob (F-statistic):           1.53e-09\n",
       "Time:                        16:00:09   Log-Likelihood:                -159.03\n",
       "No. Observations:                  68   AIC:                             322.1\n",
       "Df Residuals:                      66   BIC:                             326.5\n",
       "Df Model:                           1                                         \n",
       "Covariance Type:            nonrobust                                         \n",
       "=================================================================================\n",
       "                    coef    std err          t      P>|t|      [0.025      0.975]\n",
       "---------------------------------------------------------------------------------\n",
       "Intercept        13.4279      5.057      2.655      0.010       3.332      23.524\n",
       "bill_depth_mm     1.9221      0.274      7.015      0.000       1.375       2.469\n",
       "==============================================================================\n",
       "Omnibus:                       14.567   Durbin-Watson:                   2.553\n",
       "Prob(Omnibus):                  0.001   Jarque-Bera (JB):               27.201\n",
       "Skew:                           0.682   Prob(JB):                     1.24e-06\n",
       "Kurtosis:                       5.782   Cond. No.                         303.\n",
       "==============================================================================\n",
       "\n",
       "Notes:\n",
       "[1] Standard Errors assume that the covariance matrix of the errors is correctly specified.\n",
       "\"\"\""
      ]
     },
     "execution_count": 101,
     "metadata": {},
     "output_type": "execute_result"
    }
   ],
   "source": [
    "model7 = ols(formula = 'bill_length_mm ~ bill_depth_mm', data=df_chin)\n",
    "res = model7.fit()\n",
    "res.summary()"
   ]
  },
  {
   "cell_type": "code",
   "execution_count": 102,
   "id": "5da3d683",
   "metadata": {},
   "outputs": [
    {
     "data": {
      "text/html": [
       "<table class=\"simpletable\">\n",
       "<caption>OLS Regression Results</caption>\n",
       "<tr>\n",
       "  <th>Dep. Variable:</th>     <td>bill_length_mm</td>  <th>  R-squared:         </th> <td>   0.264</td>\n",
       "</tr>\n",
       "<tr>\n",
       "  <th>Model:</th>                   <td>OLS</td>       <th>  Adj. R-squared:    </th> <td>   0.253</td>\n",
       "</tr>\n",
       "<tr>\n",
       "  <th>Method:</th>             <td>Least Squares</td>  <th>  F-statistic:       </th> <td>   23.65</td>\n",
       "</tr>\n",
       "<tr>\n",
       "  <th>Date:</th>             <td>Sun, 06 Feb 2022</td> <th>  Prob (F-statistic):</th> <td>7.48e-06</td>\n",
       "</tr>\n",
       "<tr>\n",
       "  <th>Time:</th>                 <td>16:00:11</td>     <th>  Log-Likelihood:    </th> <td> -167.56</td>\n",
       "</tr>\n",
       "<tr>\n",
       "  <th>No. Observations:</th>      <td>    68</td>      <th>  AIC:               </th> <td>   339.1</td>\n",
       "</tr>\n",
       "<tr>\n",
       "  <th>Df Residuals:</th>          <td>    66</td>      <th>  BIC:               </th> <td>   343.6</td>\n",
       "</tr>\n",
       "<tr>\n",
       "  <th>Df Model:</th>              <td>     1</td>      <th>                     </th>     <td> </td>   \n",
       "</tr>\n",
       "<tr>\n",
       "  <th>Covariance Type:</th>      <td>nonrobust</td>    <th>                     </th>     <td> </td>   \n",
       "</tr>\n",
       "</table>\n",
       "<table class=\"simpletable\">\n",
       "<tr>\n",
       "       <td></td>          <th>coef</th>     <th>std err</th>      <th>t</th>      <th>P>|t|</th>  <th>[0.025</th>    <th>0.975]</th>  \n",
       "</tr>\n",
       "<tr>\n",
       "  <th>Intercept</th>   <td>   32.1742</td> <td>    3.443</td> <td>    9.344</td> <td> 0.000</td> <td>   25.299</td> <td>   39.049</td>\n",
       "</tr>\n",
       "<tr>\n",
       "  <th>body_mass_g</th> <td>    0.0045</td> <td>    0.001</td> <td>    4.863</td> <td> 0.000</td> <td>    0.003</td> <td>    0.006</td>\n",
       "</tr>\n",
       "</table>\n",
       "<table class=\"simpletable\">\n",
       "<tr>\n",
       "  <th>Omnibus:</th>       <td> 2.589</td> <th>  Durbin-Watson:     </th> <td>   2.701</td>\n",
       "</tr>\n",
       "<tr>\n",
       "  <th>Prob(Omnibus):</th> <td> 0.274</td> <th>  Jarque-Bera (JB):  </th> <td>   1.795</td>\n",
       "</tr>\n",
       "<tr>\n",
       "  <th>Skew:</th>          <td> 0.333</td> <th>  Prob(JB):          </th> <td>   0.408</td>\n",
       "</tr>\n",
       "<tr>\n",
       "  <th>Kurtosis:</th>      <td> 3.435</td> <th>  Cond. No.          </th> <td>3.69e+04</td>\n",
       "</tr>\n",
       "</table><br/><br/>Notes:<br/>[1] Standard Errors assume that the covariance matrix of the errors is correctly specified.<br/>[2] The condition number is large, 3.69e+04. This might indicate that there are<br/>strong multicollinearity or other numerical problems."
      ],
      "text/plain": [
       "<class 'statsmodels.iolib.summary.Summary'>\n",
       "\"\"\"\n",
       "                            OLS Regression Results                            \n",
       "==============================================================================\n",
       "Dep. Variable:         bill_length_mm   R-squared:                       0.264\n",
       "Model:                            OLS   Adj. R-squared:                  0.253\n",
       "Method:                 Least Squares   F-statistic:                     23.65\n",
       "Date:                Sun, 06 Feb 2022   Prob (F-statistic):           7.48e-06\n",
       "Time:                        16:00:11   Log-Likelihood:                -167.56\n",
       "No. Observations:                  68   AIC:                             339.1\n",
       "Df Residuals:                      66   BIC:                             343.6\n",
       "Df Model:                           1                                         \n",
       "Covariance Type:            nonrobust                                         \n",
       "===============================================================================\n",
       "                  coef    std err          t      P>|t|      [0.025      0.975]\n",
       "-------------------------------------------------------------------------------\n",
       "Intercept      32.1742      3.443      9.344      0.000      25.299      39.049\n",
       "body_mass_g     0.0045      0.001      4.863      0.000       0.003       0.006\n",
       "==============================================================================\n",
       "Omnibus:                        2.589   Durbin-Watson:                   2.701\n",
       "Prob(Omnibus):                  0.274   Jarque-Bera (JB):                1.795\n",
       "Skew:                           0.333   Prob(JB):                        0.408\n",
       "Kurtosis:                       3.435   Cond. No.                     3.69e+04\n",
       "==============================================================================\n",
       "\n",
       "Notes:\n",
       "[1] Standard Errors assume that the covariance matrix of the errors is correctly specified.\n",
       "[2] The condition number is large, 3.69e+04. This might indicate that there are\n",
       "strong multicollinearity or other numerical problems.\n",
       "\"\"\""
      ]
     },
     "execution_count": 102,
     "metadata": {},
     "output_type": "execute_result"
    }
   ],
   "source": [
    "model8 = ols(formula = 'bill_length_mm ~ body_mass_g', data=df_chin)\n",
    "res = model8.fit()\n",
    "res.summary()"
   ]
  },
  {
   "cell_type": "markdown",
   "id": "2a3a237f",
   "metadata": {},
   "source": [
    "$R^{2}$ for flipper length for Chinstrap = .222 pr 22.2%, for bill depth = .427 or 42.7%, for body mass = .264 or 26.4%. These $R^{2}$ values show that these models are not a particularly good fit. The models are less fitted to the data of Chinstrap than to the penguins as a whole."
   ]
  },
  {
   "cell_type": "code",
   "execution_count": 103,
   "id": "1ee0ebce",
   "metadata": {},
   "outputs": [
    {
     "data": {
      "text/html": [
       "<div>\n",
       "<style scoped>\n",
       "    .dataframe tbody tr th:only-of-type {\n",
       "        vertical-align: middle;\n",
       "    }\n",
       "\n",
       "    .dataframe tbody tr th {\n",
       "        vertical-align: top;\n",
       "    }\n",
       "\n",
       "    .dataframe thead th {\n",
       "        text-align: right;\n",
       "    }\n",
       "</style>\n",
       "<table border=\"1\" class=\"dataframe\">\n",
       "  <thead>\n",
       "    <tr style=\"text-align: right;\">\n",
       "      <th></th>\n",
       "      <th>species</th>\n",
       "      <th>island</th>\n",
       "      <th>bill_length_mm</th>\n",
       "      <th>bill_depth_mm</th>\n",
       "      <th>flipper_length_mm</th>\n",
       "      <th>body_mass_g</th>\n",
       "      <th>sex</th>\n",
       "    </tr>\n",
       "  </thead>\n",
       "  <tbody>\n",
       "    <tr>\n",
       "      <th>220</th>\n",
       "      <td>Gentoo</td>\n",
       "      <td>Biscoe</td>\n",
       "      <td>46.1</td>\n",
       "      <td>13.2</td>\n",
       "      <td>211.0</td>\n",
       "      <td>4500.0</td>\n",
       "      <td>Female</td>\n",
       "    </tr>\n",
       "    <tr>\n",
       "      <th>221</th>\n",
       "      <td>Gentoo</td>\n",
       "      <td>Biscoe</td>\n",
       "      <td>50.0</td>\n",
       "      <td>16.3</td>\n",
       "      <td>230.0</td>\n",
       "      <td>5700.0</td>\n",
       "      <td>Male</td>\n",
       "    </tr>\n",
       "    <tr>\n",
       "      <th>222</th>\n",
       "      <td>Gentoo</td>\n",
       "      <td>Biscoe</td>\n",
       "      <td>48.7</td>\n",
       "      <td>14.1</td>\n",
       "      <td>210.0</td>\n",
       "      <td>4450.0</td>\n",
       "      <td>Female</td>\n",
       "    </tr>\n",
       "    <tr>\n",
       "      <th>223</th>\n",
       "      <td>Gentoo</td>\n",
       "      <td>Biscoe</td>\n",
       "      <td>50.0</td>\n",
       "      <td>15.2</td>\n",
       "      <td>218.0</td>\n",
       "      <td>5700.0</td>\n",
       "      <td>Male</td>\n",
       "    </tr>\n",
       "    <tr>\n",
       "      <th>224</th>\n",
       "      <td>Gentoo</td>\n",
       "      <td>Biscoe</td>\n",
       "      <td>47.6</td>\n",
       "      <td>14.5</td>\n",
       "      <td>215.0</td>\n",
       "      <td>5400.0</td>\n",
       "      <td>Male</td>\n",
       "    </tr>\n",
       "  </tbody>\n",
       "</table>\n",
       "</div>"
      ],
      "text/plain": [
       "    species  island  bill_length_mm  bill_depth_mm  flipper_length_mm  \\\n",
       "220  Gentoo  Biscoe            46.1           13.2              211.0   \n",
       "221  Gentoo  Biscoe            50.0           16.3              230.0   \n",
       "222  Gentoo  Biscoe            48.7           14.1              210.0   \n",
       "223  Gentoo  Biscoe            50.0           15.2              218.0   \n",
       "224  Gentoo  Biscoe            47.6           14.5              215.0   \n",
       "\n",
       "     body_mass_g     sex  \n",
       "220       4500.0  Female  \n",
       "221       5700.0    Male  \n",
       "222       4450.0  Female  \n",
       "223       5700.0    Male  \n",
       "224       5400.0    Male  "
      ]
     },
     "execution_count": 103,
     "metadata": {},
     "output_type": "execute_result"
    }
   ],
   "source": [
    "df_gentoo = df_penguins[df_penguins['species'] == \"Gentoo\"]\n",
    "df_gentoo.head()"
   ]
  },
  {
   "cell_type": "code",
   "execution_count": 104,
   "id": "26f92923",
   "metadata": {},
   "outputs": [
    {
     "data": {
      "text/plain": [
       "<seaborn.axisgrid.PairGrid at 0x2b28e0412b0>"
      ]
     },
     "execution_count": 104,
     "metadata": {},
     "output_type": "execute_result"
    },
    {
     "data": {
      "image/png": "[encoded data removed]",
      "text/plain": [
       "<Figure size 540x180 with 3 Axes>"
      ]
     },
     "metadata": {
      "needs_background": "light"
     },
     "output_type": "display_data"
    }
   ],
   "source": [
    "sns.pairplot(df_gentoo,\n",
    "             y_vars = ['bill_length_mm'],\n",
    "             x_vars= ['bill_depth_mm', 'flipper_length_mm', 'body_mass_g'])"
   ]
  },
  {
   "cell_type": "code",
   "execution_count": 105,
   "id": "54b52063",
   "metadata": {},
   "outputs": [
    {
     "data": {
      "text/html": [
       "<table class=\"simpletable\">\n",
       "<caption>OLS Regression Results</caption>\n",
       "<tr>\n",
       "  <th>Dep. Variable:</th>     <td>bill_length_mm</td>  <th>  R-squared:         </th> <td>   0.441</td>\n",
       "</tr>\n",
       "<tr>\n",
       "  <th>Model:</th>                   <td>OLS</td>       <th>  Adj. R-squared:    </th> <td>   0.436</td>\n",
       "</tr>\n",
       "<tr>\n",
       "  <th>Method:</th>             <td>Least Squares</td>  <th>  F-statistic:       </th> <td>   92.37</td>\n",
       "</tr>\n",
       "<tr>\n",
       "  <th>Date:</th>             <td>Sun, 06 Feb 2022</td> <th>  Prob (F-statistic):</th> <td>1.80e-16</td>\n",
       "</tr>\n",
       "<tr>\n",
       "  <th>Time:</th>                 <td>16:00:21</td>     <th>  Log-Likelihood:    </th> <td> -268.60</td>\n",
       "</tr>\n",
       "<tr>\n",
       "  <th>No. Observations:</th>      <td>   119</td>      <th>  AIC:               </th> <td>   541.2</td>\n",
       "</tr>\n",
       "<tr>\n",
       "  <th>Df Residuals:</th>          <td>   117</td>      <th>  BIC:               </th> <td>   546.8</td>\n",
       "</tr>\n",
       "<tr>\n",
       "  <th>Df Model:</th>              <td>     1</td>      <th>                     </th>     <td> </td>   \n",
       "</tr>\n",
       "<tr>\n",
       "  <th>Covariance Type:</th>      <td>nonrobust</td>    <th>                     </th>     <td> </td>   \n",
       "</tr>\n",
       "</table>\n",
       "<table class=\"simpletable\">\n",
       "<tr>\n",
       "          <td></td>             <th>coef</th>     <th>std err</th>      <th>t</th>      <th>P>|t|</th>  <th>[0.025</th>    <th>0.975]</th>  \n",
       "</tr>\n",
       "<tr>\n",
       "  <th>Intercept</th>         <td>  -20.4879</td> <td>    7.084</td> <td>   -2.892</td> <td> 0.005</td> <td>  -34.518</td> <td>   -6.457</td>\n",
       "</tr>\n",
       "<tr>\n",
       "  <th>flipper_length_mm</th> <td>    0.3133</td> <td>    0.033</td> <td>    9.611</td> <td> 0.000</td> <td>    0.249</td> <td>    0.378</td>\n",
       "</tr>\n",
       "</table>\n",
       "<table class=\"simpletable\">\n",
       "<tr>\n",
       "  <th>Omnibus:</th>       <td> 4.254</td> <th>  Durbin-Watson:     </th> <td>   2.022</td>\n",
       "</tr>\n",
       "<tr>\n",
       "  <th>Prob(Omnibus):</th> <td> 0.119</td> <th>  Jarque-Bera (JB):  </th> <td>   3.775</td>\n",
       "</tr>\n",
       "<tr>\n",
       "  <th>Skew:</th>          <td> 0.325</td> <th>  Prob(JB):          </th> <td>   0.151</td>\n",
       "</tr>\n",
       "<tr>\n",
       "  <th>Kurtosis:</th>      <td> 3.582</td> <th>  Cond. No.          </th> <td>7.20e+03</td>\n",
       "</tr>\n",
       "</table><br/><br/>Notes:<br/>[1] Standard Errors assume that the covariance matrix of the errors is correctly specified.<br/>[2] The condition number is large, 7.2e+03. This might indicate that there are<br/>strong multicollinearity or other numerical problems."
      ],
      "text/plain": [
       "<class 'statsmodels.iolib.summary.Summary'>\n",
       "\"\"\"\n",
       "                            OLS Regression Results                            \n",
       "==============================================================================\n",
       "Dep. Variable:         bill_length_mm   R-squared:                       0.441\n",
       "Model:                            OLS   Adj. R-squared:                  0.436\n",
       "Method:                 Least Squares   F-statistic:                     92.37\n",
       "Date:                Sun, 06 Feb 2022   Prob (F-statistic):           1.80e-16\n",
       "Time:                        16:00:21   Log-Likelihood:                -268.60\n",
       "No. Observations:                 119   AIC:                             541.2\n",
       "Df Residuals:                     117   BIC:                             546.8\n",
       "Df Model:                           1                                         \n",
       "Covariance Type:            nonrobust                                         \n",
       "=====================================================================================\n",
       "                        coef    std err          t      P>|t|      [0.025      0.975]\n",
       "-------------------------------------------------------------------------------------\n",
       "Intercept           -20.4879      7.084     -2.892      0.005     -34.518      -6.457\n",
       "flipper_length_mm     0.3133      0.033      9.611      0.000       0.249       0.378\n",
       "==============================================================================\n",
       "Omnibus:                        4.254   Durbin-Watson:                   2.022\n",
       "Prob(Omnibus):                  0.119   Jarque-Bera (JB):                3.775\n",
       "Skew:                           0.325   Prob(JB):                        0.151\n",
       "Kurtosis:                       3.582   Cond. No.                     7.20e+03\n",
       "==============================================================================\n",
       "\n",
       "Notes:\n",
       "[1] Standard Errors assume that the covariance matrix of the errors is correctly specified.\n",
       "[2] The condition number is large, 7.2e+03. This might indicate that there are\n",
       "strong multicollinearity or other numerical problems.\n",
       "\"\"\""
      ]
     },
     "execution_count": 105,
     "metadata": {},
     "output_type": "execute_result"
    }
   ],
   "source": [
    "model9 = ols(formula = 'bill_length_mm ~ flipper_length_mm', data=df_gentoo)\n",
    "res = model9.fit()\n",
    "res.summary()"
   ]
  },
  {
   "cell_type": "code",
   "execution_count": 106,
   "id": "94302102",
   "metadata": {},
   "outputs": [
    {
     "data": {
      "text/html": [
       "<table class=\"simpletable\">\n",
       "<caption>OLS Regression Results</caption>\n",
       "<tr>\n",
       "  <th>Dep. Variable:</th>     <td>bill_length_mm</td>  <th>  R-squared:         </th> <td>   0.428</td>\n",
       "</tr>\n",
       "<tr>\n",
       "  <th>Model:</th>                   <td>OLS</td>       <th>  Adj. R-squared:    </th> <td>   0.423</td>\n",
       "</tr>\n",
       "<tr>\n",
       "  <th>Method:</th>             <td>Least Squares</td>  <th>  F-statistic:       </th> <td>   87.45</td>\n",
       "</tr>\n",
       "<tr>\n",
       "  <th>Date:</th>             <td>Sun, 06 Feb 2022</td> <th>  Prob (F-statistic):</th> <td>7.34e-16</td>\n",
       "</tr>\n",
       "<tr>\n",
       "  <th>Time:</th>                 <td>16:00:25</td>     <th>  Log-Likelihood:    </th> <td> -270.01</td>\n",
       "</tr>\n",
       "<tr>\n",
       "  <th>No. Observations:</th>      <td>   119</td>      <th>  AIC:               </th> <td>   544.0</td>\n",
       "</tr>\n",
       "<tr>\n",
       "  <th>Df Residuals:</th>          <td>   117</td>      <th>  BIC:               </th> <td>   549.6</td>\n",
       "</tr>\n",
       "<tr>\n",
       "  <th>Df Model:</th>              <td>     1</td>      <th>                     </th>     <td> </td>   \n",
       "</tr>\n",
       "<tr>\n",
       "  <th>Covariance Type:</th>      <td>nonrobust</td>    <th>                     </th>     <td> </td>   \n",
       "</tr>\n",
       "</table>\n",
       "<table class=\"simpletable\">\n",
       "<tr>\n",
       "        <td></td>           <th>coef</th>     <th>std err</th>      <th>t</th>      <th>P>|t|</th>  <th>[0.025</th>    <th>0.975]</th>  \n",
       "</tr>\n",
       "<tr>\n",
       "  <th>Intercept</th>     <td>   16.6702</td> <td>    3.311</td> <td>    5.035</td> <td> 0.000</td> <td>   10.113</td> <td>   23.228</td>\n",
       "</tr>\n",
       "<tr>\n",
       "  <th>bill_depth_mm</th> <td>    2.0603</td> <td>    0.220</td> <td>    9.352</td> <td> 0.000</td> <td>    1.624</td> <td>    2.497</td>\n",
       "</tr>\n",
       "</table>\n",
       "<table class=\"simpletable\">\n",
       "<tr>\n",
       "  <th>Omnibus:</th>       <td> 5.717</td> <th>  Durbin-Watson:     </th> <td>   1.950</td>\n",
       "</tr>\n",
       "<tr>\n",
       "  <th>Prob(Omnibus):</th> <td> 0.057</td> <th>  Jarque-Bera (JB):  </th> <td>   8.687</td>\n",
       "</tr>\n",
       "<tr>\n",
       "  <th>Skew:</th>          <td> 0.080</td> <th>  Prob(JB):          </th> <td>  0.0130</td>\n",
       "</tr>\n",
       "<tr>\n",
       "  <th>Kurtosis:</th>      <td> 4.314</td> <th>  Cond. No.          </th> <td>    231.</td>\n",
       "</tr>\n",
       "</table><br/><br/>Notes:<br/>[1] Standard Errors assume that the covariance matrix of the errors is correctly specified."
      ],
      "text/plain": [
       "<class 'statsmodels.iolib.summary.Summary'>\n",
       "\"\"\"\n",
       "                            OLS Regression Results                            \n",
       "==============================================================================\n",
       "Dep. Variable:         bill_length_mm   R-squared:                       0.428\n",
       "Model:                            OLS   Adj. R-squared:                  0.423\n",
       "Method:                 Least Squares   F-statistic:                     87.45\n",
       "Date:                Sun, 06 Feb 2022   Prob (F-statistic):           7.34e-16\n",
       "Time:                        16:00:25   Log-Likelihood:                -270.01\n",
       "No. Observations:                 119   AIC:                             544.0\n",
       "Df Residuals:                     117   BIC:                             549.6\n",
       "Df Model:                           1                                         \n",
       "Covariance Type:            nonrobust                                         \n",
       "=================================================================================\n",
       "                    coef    std err          t      P>|t|      [0.025      0.975]\n",
       "---------------------------------------------------------------------------------\n",
       "Intercept        16.6702      3.311      5.035      0.000      10.113      23.228\n",
       "bill_depth_mm     2.0603      0.220      9.352      0.000       1.624       2.497\n",
       "==============================================================================\n",
       "Omnibus:                        5.717   Durbin-Watson:                   1.950\n",
       "Prob(Omnibus):                  0.057   Jarque-Bera (JB):                8.687\n",
       "Skew:                           0.080   Prob(JB):                       0.0130\n",
       "Kurtosis:                       4.314   Cond. No.                         231.\n",
       "==============================================================================\n",
       "\n",
       "Notes:\n",
       "[1] Standard Errors assume that the covariance matrix of the errors is correctly specified.\n",
       "\"\"\""
      ]
     },
     "execution_count": 106,
     "metadata": {},
     "output_type": "execute_result"
    }
   ],
   "source": [
    "model10 = ols(formula = 'bill_length_mm ~ bill_depth_mm', data=df_gentoo)\n",
    "res = model10.fit()\n",
    "res.summary()"
   ]
  },
  {
   "cell_type": "code",
   "execution_count": 107,
   "id": "1e9b48e9",
   "metadata": {},
   "outputs": [
    {
     "data": {
      "text/html": [
       "<table class=\"simpletable\">\n",
       "<caption>OLS Regression Results</caption>\n",
       "<tr>\n",
       "  <th>Dep. Variable:</th>     <td>bill_length_mm</td>  <th>  R-squared:         </th> <td>   0.445</td>\n",
       "</tr>\n",
       "<tr>\n",
       "  <th>Model:</th>                   <td>OLS</td>       <th>  Adj. R-squared:    </th> <td>   0.440</td>\n",
       "</tr>\n",
       "<tr>\n",
       "  <th>Method:</th>             <td>Least Squares</td>  <th>  F-statistic:       </th> <td>   93.63</td>\n",
       "</tr>\n",
       "<tr>\n",
       "  <th>Date:</th>             <td>Sun, 06 Feb 2022</td> <th>  Prob (F-statistic):</th> <td>1.26e-16</td>\n",
       "</tr>\n",
       "<tr>\n",
       "  <th>Time:</th>                 <td>16:00:30</td>     <th>  Log-Likelihood:    </th> <td> -268.24</td>\n",
       "</tr>\n",
       "<tr>\n",
       "  <th>No. Observations:</th>      <td>   119</td>      <th>  AIC:               </th> <td>   540.5</td>\n",
       "</tr>\n",
       "<tr>\n",
       "  <th>Df Residuals:</th>          <td>   117</td>      <th>  BIC:               </th> <td>   546.0</td>\n",
       "</tr>\n",
       "<tr>\n",
       "  <th>Df Model:</th>              <td>     1</td>      <th>                     </th>     <td> </td>   \n",
       "</tr>\n",
       "<tr>\n",
       "  <th>Covariance Type:</th>      <td>nonrobust</td>    <th>                     </th>     <td> </td>   \n",
       "</tr>\n",
       "</table>\n",
       "<table class=\"simpletable\">\n",
       "<tr>\n",
       "       <td></td>          <th>coef</th>     <th>std err</th>      <th>t</th>      <th>P>|t|</th>  <th>[0.025</th>    <th>0.975]</th>  \n",
       "</tr>\n",
       "<tr>\n",
       "  <th>Intercept</th>   <td>   26.5379</td> <td>    2.184</td> <td>   12.152</td> <td> 0.000</td> <td>   22.213</td> <td>   30.863</td>\n",
       "</tr>\n",
       "<tr>\n",
       "  <th>body_mass_g</th> <td>    0.0041</td> <td>    0.000</td> <td>    9.676</td> <td> 0.000</td> <td>    0.003</td> <td>    0.005</td>\n",
       "</tr>\n",
       "</table>\n",
       "<table class=\"simpletable\">\n",
       "<tr>\n",
       "  <th>Omnibus:</th>       <td> 5.013</td> <th>  Durbin-Watson:     </th> <td>   1.876</td>\n",
       "</tr>\n",
       "<tr>\n",
       "  <th>Prob(Omnibus):</th> <td> 0.082</td> <th>  Jarque-Bera (JB):  </th> <td>   4.650</td>\n",
       "</tr>\n",
       "<tr>\n",
       "  <th>Skew:</th>          <td> 0.356</td> <th>  Prob(JB):          </th> <td>  0.0978</td>\n",
       "</tr>\n",
       "<tr>\n",
       "  <th>Kurtosis:</th>      <td> 3.657</td> <th>  Cond. No.          </th> <td>5.24e+04</td>\n",
       "</tr>\n",
       "</table><br/><br/>Notes:<br/>[1] Standard Errors assume that the covariance matrix of the errors is correctly specified.<br/>[2] The condition number is large, 5.24e+04. This might indicate that there are<br/>strong multicollinearity or other numerical problems."
      ],
      "text/plain": [
       "<class 'statsmodels.iolib.summary.Summary'>\n",
       "\"\"\"\n",
       "                            OLS Regression Results                            \n",
       "==============================================================================\n",
       "Dep. Variable:         bill_length_mm   R-squared:                       0.445\n",
       "Model:                            OLS   Adj. R-squared:                  0.440\n",
       "Method:                 Least Squares   F-statistic:                     93.63\n",
       "Date:                Sun, 06 Feb 2022   Prob (F-statistic):           1.26e-16\n",
       "Time:                        16:00:30   Log-Likelihood:                -268.24\n",
       "No. Observations:                 119   AIC:                             540.5\n",
       "Df Residuals:                     117   BIC:                             546.0\n",
       "Df Model:                           1                                         \n",
       "Covariance Type:            nonrobust                                         \n",
       "===============================================================================\n",
       "                  coef    std err          t      P>|t|      [0.025      0.975]\n",
       "-------------------------------------------------------------------------------\n",
       "Intercept      26.5379      2.184     12.152      0.000      22.213      30.863\n",
       "body_mass_g     0.0041      0.000      9.676      0.000       0.003       0.005\n",
       "==============================================================================\n",
       "Omnibus:                        5.013   Durbin-Watson:                   1.876\n",
       "Prob(Omnibus):                  0.082   Jarque-Bera (JB):                4.650\n",
       "Skew:                           0.356   Prob(JB):                       0.0978\n",
       "Kurtosis:                       3.657   Cond. No.                     5.24e+04\n",
       "==============================================================================\n",
       "\n",
       "Notes:\n",
       "[1] Standard Errors assume that the covariance matrix of the errors is correctly specified.\n",
       "[2] The condition number is large, 5.24e+04. This might indicate that there are\n",
       "strong multicollinearity or other numerical problems.\n",
       "\"\"\""
      ]
     },
     "execution_count": 107,
     "metadata": {},
     "output_type": "execute_result"
    }
   ],
   "source": [
    "model11 = ols(formula = 'bill_length_mm ~ body_mass_g', data=df_gentoo)\n",
    "res = model11.fit()\n",
    "res.summary()"
   ]
  },
  {
   "cell_type": "code",
   "execution_count": 108,
   "id": "64afdfc8",
   "metadata": {},
   "outputs": [
    {
     "data": {
      "text/html": [
       "<div>\n",
       "<style scoped>\n",
       "    .dataframe tbody tr th:only-of-type {\n",
       "        vertical-align: middle;\n",
       "    }\n",
       "\n",
       "    .dataframe tbody tr th {\n",
       "        vertical-align: top;\n",
       "    }\n",
       "\n",
       "    .dataframe thead th {\n",
       "        text-align: right;\n",
       "    }\n",
       "</style>\n",
       "<table border=\"1\" class=\"dataframe\">\n",
       "  <thead>\n",
       "    <tr style=\"text-align: right;\">\n",
       "      <th></th>\n",
       "      <th>Penguin Name</th>\n",
       "      <th>x = flipper lenght</th>\n",
       "      <th>x = bill depth</th>\n",
       "      <th>x = body mass</th>\n",
       "    </tr>\n",
       "  </thead>\n",
       "  <tbody>\n",
       "    <tr>\n",
       "      <th>0</th>\n",
       "      <td>Adelie</td>\n",
       "      <td>0.110</td>\n",
       "      <td>0.149</td>\n",
       "      <td>0.296</td>\n",
       "    </tr>\n",
       "    <tr>\n",
       "      <th>1</th>\n",
       "      <td>Chinstrap</td>\n",
       "      <td>0.222</td>\n",
       "      <td>0.427</td>\n",
       "      <td>0.264</td>\n",
       "    </tr>\n",
       "    <tr>\n",
       "      <th>2</th>\n",
       "      <td>Gentoo</td>\n",
       "      <td>0.441</td>\n",
       "      <td>0.428</td>\n",
       "      <td>0.445</td>\n",
       "    </tr>\n",
       "    <tr>\n",
       "      <th>3</th>\n",
       "      <td>All</td>\n",
       "      <td>0.427</td>\n",
       "      <td>0.052</td>\n",
       "      <td>0.347</td>\n",
       "    </tr>\n",
       "  </tbody>\n",
       "</table>\n",
       "</div>"
      ],
      "text/plain": [
       "  Penguin Name  x = flipper lenght  x = bill depth  x = body mass\n",
       "0       Adelie               0.110           0.149          0.296\n",
       "1    Chinstrap               0.222           0.427          0.264\n",
       "2       Gentoo               0.441           0.428          0.445\n",
       "3          All               0.427           0.052          0.347"
      ]
     },
     "execution_count": 108,
     "metadata": {},
     "output_type": "execute_result"
    }
   ],
   "source": [
    "r_data = [[\"Adelie\", .110, .149, .296], [\"Chinstrap\", .222, .427, .264], [\"Gentoo\", .441, .428, .445], [\"All\", .427, .052, .347 ]]\n",
    "df_x = pd.DataFrame(r_data, columns = ['Penguin Name', 'x = flipper lenght', 'x = bill depth', 'x = body mass'])\n",
    "df_x"
   ]
  },
  {
   "cell_type": "markdown",
   "id": "5b2d42ba",
   "metadata": {},
   "source": [
    "The only $R^{2}$ value that improved unilaterally across species when the model measures fit per species is the bill depth. This tells us that the model better explains the variation from bill depth better when analyzed by species. the other metrics did not improve or unambiguously improve. For example, we saw the $R^{2}$ gain some explanatory power for the Gentoo when measuring it's relationship with bill length, however, it reduced explanatory power for the other two species. \n",
    "\n",
    "Unless specifically interested in the relationship between bill length and bill depth, it does not value to the analysis to separate out by species. "
   ]
  }
 ],
 "metadata": {
  "kernelspec": {
   "display_name": "Python 3",
   "language": "python",
   "name": "python3"
  },
  "language_info": {
   "codemirror_mode": {
    "name": "ipython",
    "version": 3
   },
   "file_extension": ".py",
   "mimetype": "text/x-python",
   "name": "python",
   "nbconvert_exporter": "python",
   "pygments_lexer": "ipython3",
   "version": "3.8.8"
  }
 },
 "nbformat": 4,
 "nbformat_minor": 5
}
