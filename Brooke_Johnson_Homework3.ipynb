{
 "cells": [
  {
   "cell_type": "markdown",
   "id": "f9e5f25a",
   "metadata": {},
   "source": [
    "# Brooke Johnson\n",
    "## Homework 3\n",
    "MSDS 598 Spring 2022"
   ]
  },
  {
   "cell_type": "code",
   "execution_count": 114,
   "id": "57cab8a9",
   "metadata": {},
   "outputs": [],
   "source": [
    "import pandas as pd\n",
    "import numpy as np\n",
    "import matplotlib.pyplot as plt\n",
    "import math\n",
    "import random\n",
    "import seaborn as sns\n",
    "\n",
    "import statsmodels.api as sm\n",
    "from statsmodels.formula.api import ols\n",
    "from statsmodels.formula.api import logit\n",
    "from sklearn import metrics\n",
    "from sklearn.model_selection import train_test_split"
   ]
  },
  {
   "cell_type": "code",
   "execution_count": 115,
   "id": "3d2a8fbe",
   "metadata": {},
   "outputs": [],
   "source": [
    "df = pd.read_csv('heart.csv')"
   ]
  },
  {
   "cell_type": "markdown",
   "id": "af0a3206",
   "metadata": {},
   "source": [
    "### 1. What is the percentage of patients with heart disease? Would you consider this a balanced or imbalanced dataset? "
   ]
  },
  {
   "cell_type": "code",
   "execution_count": 116,
   "id": "f9fe30e6",
   "metadata": {},
   "outputs": [
    {
     "data": {
      "text/plain": [
       "1    0.544554\n",
       "0    0.455446\n",
       "Name: target, dtype: float64"
      ]
     },
     "execution_count": 116,
     "metadata": {},
     "output_type": "execute_result"
    }
   ],
   "source": [
    "perc_hd = df.target.value_counts() / len(df)\n",
    "perc_hd"
   ]
  },
  {
   "cell_type": "markdown",
   "id": "d986fdfa",
   "metadata": {},
   "source": [
    "#### Answer:\n",
    "\n",
    "The dataset is more balanced than unbalanced. Of the two categories (has or doesn't have heart disease) they are both within 5 percentage points from a perfect split. However, in total there is a 9 percentage point difference between them which isn't negligible. "
   ]
  },
  {
   "cell_type": "markdown",
   "id": "7dba15be",
   "metadata": {},
   "source": [
    "### 2. Suppose we want to use variables age and sex to predict the presence of heart disease. \n",
    "#### (a). Use logistic regression to create a model predicting target from age and sex. Report the Accuracy."
   ]
  },
  {
   "cell_type": "code",
   "execution_count": 117,
   "id": "8fc14671",
   "metadata": {},
   "outputs": [
    {
     "name": "stdout",
     "output_type": "stream",
     "text": [
      "Optimization terminated successfully.\n",
      "         Current function value: 0.611509\n",
      "         Iterations 5\n",
      "The Accuracy of the model on the validation set is 64.68646864686468%\n"
     ]
    }
   ],
   "source": [
    "model = logit(formula = 'target ~ age + sex', data=df)\n",
    "res = model.fit()\n",
    "\n",
    "x = df[['age', 'sex']]\n",
    "y = df['target']\n",
    "\n",
    "y_pred_prob = res.predict(x)\n",
    "y_pred = (y_pred_prob >= 0.5).apply(int)\n",
    "\n",
    "acc = metrics.accuracy_score(y, y_pred)\n",
    "print(f'The Accuracy of the model on the validation set is {100*acc}%')"
   ]
  },
  {
   "cell_type": "markdown",
   "id": "ba7cfb7c",
   "metadata": {},
   "source": [
    "#### (b). If we had a model that predicted heart disease for every patient, what would the accuracy be?"
   ]
  },
  {
   "cell_type": "code",
   "execution_count": 118,
   "id": "0ca9483e",
   "metadata": {},
   "outputs": [
    {
     "data": {
      "text/plain": [
       "Index(['age', 'sex', 'cp', 'trestbps', 'chol', 'fbs', 'restecg', 'thalach',\n",
       "       'exang', 'oldpeak', 'slope', 'ca', 'thal', 'target'],\n",
       "      dtype='object')"
      ]
     },
     "execution_count": 118,
     "metadata": {},
     "output_type": "execute_result"
    }
   ],
   "source": [
    "df.columns"
   ]
  },
  {
   "cell_type": "code",
   "execution_count": 119,
   "id": "b2431df0",
   "metadata": {
    "scrolled": true
   },
   "outputs": [
    {
     "name": "stdout",
     "output_type": "stream",
     "text": [
      "Optimization terminated successfully.\n",
      "         Current function value: 0.348911\n",
      "         Iterations 7\n",
      "The Accuracy of the model is 84.81848184818482%\n"
     ]
    }
   ],
   "source": [
    "model = logit(formula = 'target ~ age + sex + cp + trestbps + chol + restecg + thalach + exang + oldpeak + slope + ca + thal', data=df)\n",
    "res = model.fit()\n",
    "\n",
    "x = df[['age', 'sex', 'cp', 'trestbps', 'chol', 'restecg', 'thalach', 'exang', 'oldpeak', 'slope', 'ca', 'thal']]\n",
    "y = df['target']\n",
    "\n",
    "y_pred_prob = res.predict(x)\n",
    "y_pred = (y_pred_prob >= 0.5).apply(int)\n",
    "\n",
    "acc = metrics.accuracy_score(y, y_pred)\n",
    "print(f'The Accuracy of the model is {100*acc}%')"
   ]
  },
  {
   "cell_type": "markdown",
   "id": "1a94ab0f",
   "metadata": {},
   "source": [
    "### 3. Perform a trial-validation split (use 50 patients in your validation set). What is the accuracy of your model (same variables as the previous question, created on the training set) on the validation set?"
   ]
  },
  {
   "cell_type": "code",
   "execution_count": 121,
   "id": "cf164062",
   "metadata": {},
   "outputs": [
    {
     "data": {
      "text/plain": [
       "0.16501650165016502"
      ]
     },
     "execution_count": 121,
     "metadata": {},
     "output_type": "execute_result"
    }
   ],
   "source": [
    "# set 50 patients aside for validation set, calculate the percentage to use:\n",
    "obs = len(df)\n",
    "\n",
    "test_perc = (50/len(df))\n",
    "test_perc"
   ]
  },
  {
   "cell_type": "code",
   "execution_count": 122,
   "id": "58e2c656",
   "metadata": {},
   "outputs": [],
   "source": [
    "# take random 83% of the patients for testing\n",
    "train, val = train_test_split(df, test_size=0.17)"
   ]
  },
  {
   "cell_type": "code",
   "execution_count": 123,
   "id": "01648c30",
   "metadata": {},
   "outputs": [
    {
     "name": "stdout",
     "output_type": "stream",
     "text": [
      "Optimization terminated successfully.\n",
      "         Current function value: 0.620675\n",
      "         Iterations 5\n",
      "The Accuracy of the model on the validation set is 71.15384615384616%\n"
     ]
    }
   ],
   "source": [
    "model = logit(formula = 'target ~ age + sex', data=train)\n",
    "res = model.fit()\n",
    "\n",
    "x = val[['age', 'sex']]\n",
    "y = val['restecg']\n",
    "\n",
    "y_pred_prob = res.predict(x)\n",
    "y_pred = (y_pred_prob >= 0.5).apply(int)\n",
    "\n",
    "acc = metrics.accuracy_score(y, y_pred)\n",
    "\n",
    "print(f'The Accuracy of the model on the validation set is {100*acc}%')"
   ]
  },
  {
   "cell_type": "markdown",
   "id": "5690e632",
   "metadata": {},
   "source": [
    "### 4. Pick another variable. Use this validation set and the accuracy metric to decide if this variable improves the model or not. "
   ]
  },
  {
   "cell_type": "code",
   "execution_count": 124,
   "id": "92d1fa3a",
   "metadata": {},
   "outputs": [
    {
     "name": "stdout",
     "output_type": "stream",
     "text": [
      "Optimization terminated successfully.\n",
      "         Current function value: 0.619168\n",
      "         Iterations 5\n",
      "The Accuracy of the model on the validation set is 71.15384615384616%\n"
     ]
    }
   ],
   "source": [
    "model = logit(formula = 'target ~ age + sex + restecg', data=train)\n",
    "res = model.fit()\n",
    "\n",
    "x = val[['age', 'sex', 'restecg']]\n",
    "y = val['restecg']\n",
    "\n",
    "y_pred_prob = res.predict(x)\n",
    "y_pred = (y_pred_prob >= 0.5).apply(int)\n",
    "\n",
    "acc = metrics.accuracy_score(y, y_pred)\n",
    "\n",
    "print(f'The Accuracy of the model on the validation set is {100*acc}%')"
   ]
  },
  {
   "cell_type": "markdown",
   "id": "0ecb7e4e",
   "metadata": {},
   "source": [
    "### 5. Pick your favorite set of independent variables and run a logistic regression using train-validation set from above. \n",
    "#### (a). Produce the Confusion Matrix."
   ]
  },
  {
   "cell_type": "code",
   "execution_count": 125,
   "id": "bdb7bb7b",
   "metadata": {},
   "outputs": [
    {
     "data": {
      "text/html": [
       "<div>\n",
       "<style scoped>\n",
       "    .dataframe tbody tr th:only-of-type {\n",
       "        vertical-align: middle;\n",
       "    }\n",
       "\n",
       "    .dataframe tbody tr th {\n",
       "        vertical-align: top;\n",
       "    }\n",
       "\n",
       "    .dataframe thead th {\n",
       "        text-align: right;\n",
       "    }\n",
       "</style>\n",
       "<table border=\"1\" class=\"dataframe\">\n",
       "  <thead>\n",
       "    <tr style=\"text-align: right;\">\n",
       "      <th></th>\n",
       "      <th>age</th>\n",
       "      <th>sex</th>\n",
       "      <th>cp</th>\n",
       "      <th>trestbps</th>\n",
       "      <th>chol</th>\n",
       "      <th>fbs</th>\n",
       "      <th>restecg</th>\n",
       "      <th>thalach</th>\n",
       "      <th>exang</th>\n",
       "      <th>oldpeak</th>\n",
       "      <th>slope</th>\n",
       "      <th>ca</th>\n",
       "      <th>thal</th>\n",
       "      <th>target</th>\n",
       "    </tr>\n",
       "  </thead>\n",
       "  <tbody>\n",
       "    <tr>\n",
       "      <th>0</th>\n",
       "      <td>63</td>\n",
       "      <td>1</td>\n",
       "      <td>3</td>\n",
       "      <td>145</td>\n",
       "      <td>233</td>\n",
       "      <td>1</td>\n",
       "      <td>0</td>\n",
       "      <td>150</td>\n",
       "      <td>0</td>\n",
       "      <td>2.3</td>\n",
       "      <td>0</td>\n",
       "      <td>0</td>\n",
       "      <td>1</td>\n",
       "      <td>1</td>\n",
       "    </tr>\n",
       "    <tr>\n",
       "      <th>1</th>\n",
       "      <td>37</td>\n",
       "      <td>1</td>\n",
       "      <td>2</td>\n",
       "      <td>130</td>\n",
       "      <td>250</td>\n",
       "      <td>0</td>\n",
       "      <td>1</td>\n",
       "      <td>187</td>\n",
       "      <td>0</td>\n",
       "      <td>3.5</td>\n",
       "      <td>0</td>\n",
       "      <td>0</td>\n",
       "      <td>2</td>\n",
       "      <td>1</td>\n",
       "    </tr>\n",
       "    <tr>\n",
       "      <th>2</th>\n",
       "      <td>41</td>\n",
       "      <td>0</td>\n",
       "      <td>1</td>\n",
       "      <td>130</td>\n",
       "      <td>204</td>\n",
       "      <td>0</td>\n",
       "      <td>0</td>\n",
       "      <td>172</td>\n",
       "      <td>0</td>\n",
       "      <td>1.4</td>\n",
       "      <td>2</td>\n",
       "      <td>0</td>\n",
       "      <td>2</td>\n",
       "      <td>1</td>\n",
       "    </tr>\n",
       "    <tr>\n",
       "      <th>3</th>\n",
       "      <td>56</td>\n",
       "      <td>1</td>\n",
       "      <td>1</td>\n",
       "      <td>120</td>\n",
       "      <td>236</td>\n",
       "      <td>0</td>\n",
       "      <td>1</td>\n",
       "      <td>178</td>\n",
       "      <td>0</td>\n",
       "      <td>0.8</td>\n",
       "      <td>2</td>\n",
       "      <td>0</td>\n",
       "      <td>2</td>\n",
       "      <td>1</td>\n",
       "    </tr>\n",
       "    <tr>\n",
       "      <th>4</th>\n",
       "      <td>57</td>\n",
       "      <td>0</td>\n",
       "      <td>0</td>\n",
       "      <td>120</td>\n",
       "      <td>354</td>\n",
       "      <td>0</td>\n",
       "      <td>1</td>\n",
       "      <td>163</td>\n",
       "      <td>1</td>\n",
       "      <td>0.6</td>\n",
       "      <td>2</td>\n",
       "      <td>0</td>\n",
       "      <td>2</td>\n",
       "      <td>1</td>\n",
       "    </tr>\n",
       "  </tbody>\n",
       "</table>\n",
       "</div>"
      ],
      "text/plain": [
       "   age  sex  cp  trestbps  chol  fbs  restecg  thalach  exang  oldpeak  slope  \\\n",
       "0   63    1   3       145   233    1        0      150      0      2.3      0   \n",
       "1   37    1   2       130   250    0        1      187      0      3.5      0   \n",
       "2   41    0   1       130   204    0        0      172      0      1.4      2   \n",
       "3   56    1   1       120   236    0        1      178      0      0.8      2   \n",
       "4   57    0   0       120   354    0        1      163      1      0.6      2   \n",
       "\n",
       "   ca  thal  target  \n",
       "0   0     1       1  \n",
       "1   0     2       1  \n",
       "2   0     2       1  \n",
       "3   0     2       1  \n",
       "4   0     2       1  "
      ]
     },
     "execution_count": 125,
     "metadata": {},
     "output_type": "execute_result"
    }
   ],
   "source": [
    "df.head()"
   ]
  },
  {
   "cell_type": "code",
   "execution_count": 126,
   "id": "a7db600a",
   "metadata": {},
   "outputs": [],
   "source": [
    "model = ols(formula = 'restecg ~ age + sex + thal', data=train)\n",
    "res = model.fit()\n",
    "\n",
    "x = val[['age', 'sex', 'thal']]\n",
    "y = val['restecg']\n",
    "\n",
    "y_pred_prob = res.predict(x)\n",
    "y_pred = (y_pred_prob >= 0.5).apply(int)"
   ]
  },
  {
   "cell_type": "code",
   "execution_count": 127,
   "id": "c8434ba9",
   "metadata": {},
   "outputs": [
    {
     "data": {
      "image/png": "[encoded data removed]",
      "text/plain": [
       "<Figure size 432x288 with 2 Axes>"
      ]
     },
     "metadata": {
      "needs_background": "light"
     },
     "output_type": "display_data"
    }
   ],
   "source": [
    "# build the confusion matrix\n",
    "cm = metrics.confusion_matrix(y, y_pred)\n",
    "# display it nicely\n",
    "disp = metrics.ConfusionMatrixDisplay(confusion_matrix=cm)\n",
    "disp.plot()\n",
    "plt.show()"
   ]
  },
  {
   "cell_type": "markdown",
   "id": "b232b5a4",
   "metadata": {},
   "source": [
    "#### (b). Report the Accuracy, Precision, Recall, and AUC."
   ]
  },
  {
   "cell_type": "code",
   "execution_count": 128,
   "id": "cf3f0d89",
   "metadata": {
    "scrolled": true
   },
   "outputs": [
    {
     "name": "stdout",
     "output_type": "stream",
     "text": [
      "The Accuracy of the model on the validation set is 0.5961538461538461\n",
      "The Recall of the model on the validation set is 0.64\n",
      "The Precision of the model on the validation set is 0.5714285714285714\n",
      "The AUC of this model is 0.617037037037037\n"
     ]
    }
   ],
   "source": [
    "acc = metrics.accuracy_score(y, y_pred)\n",
    "recall = metrics.recall_score(y, y_pred)\n",
    "prec = metrics.precision_score(y, y_pred)\n",
    "auc = metrics.roc_auc_score(y, y_pred_prob)\n",
    "\n",
    "print(f'The Accuracy of the model on the validation set is {acc}')\n",
    "print(f'The Recall of the model on the validation set is {recall}')\n",
    "print(f'The Precision of the model on the validation set is {prec}')\n",
    "print(f'The AUC of this model is {auc}')"
   ]
  },
  {
   "cell_type": "markdown",
   "id": "0227984a",
   "metadata": {},
   "source": [
    "#### (c). Consider the task of predicting whether a person has heart disease or not, which metric in part (b) is the most important?"
   ]
  },
  {
   "cell_type": "raw",
   "id": "8e6a46fa",
   "metadata": {},
   "source": [
    "I think accuracy is the most important in a broad sense - we want the portion of correct predictions to total predictions to be as close to 1 as possible and avoid any false predictions regarding someone's health especially in a scenario as important as heart disease. However, between recall and precision, there may be important context that causes one to be more valuable than the other. For example, if we focus on high recall we have less risk of missing important diagnosises for patients with heart disease. But we may also falsely identify patients who actually don't have heart disease as positive for it in our model which means resources would be spent treating someone who doesn't need treatment and could overlook other underlying health conditions that would have otherwise been noticed. If resources are particularly tight and the model's main objective is distributing treatment to patients who we are more certain have heart disease then precision should be the bigger focus. "
   ]
  }
 ],
 "metadata": {
  "kernelspec": {
   "display_name": "Python 3",
   "language": "python",
   "name": "python3"
  },
  "language_info": {
   "codemirror_mode": {
    "name": "ipython",
    "version": 3
   },
   "file_extension": ".py",
   "mimetype": "text/x-python",
   "name": "python",
   "nbconvert_exporter": "python",
   "pygments_lexer": "ipython3",
   "version": "3.8.8"
  }
 },
 "nbformat": 4,
 "nbformat_minor": 5
}
